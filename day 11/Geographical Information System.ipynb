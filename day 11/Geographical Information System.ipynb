{
 "cells": [
  {
   "cell_type": "markdown",
   "id": "200dab20",
   "metadata": {},
   "source": [
    "## Geographical Plotting Using 2014 World Power Consumption Data"
   ]
  },
  {
   "cell_type": "code",
   "execution_count": 12,
   "id": "c3beec8f",
   "metadata": {},
   "outputs": [],
   "source": [
    "#!pip install plotly"
   ]
  },
  {
   "cell_type": "code",
   "execution_count": 13,
   "id": "851bca60",
   "metadata": {},
   "outputs": [
    {
     "data": {
      "text/html": [
       "        <script type=\"text/javascript\">\n",
       "        window.PlotlyConfig = {MathJaxConfig: 'local'};\n",
       "        if (window.MathJax) {MathJax.Hub.Config({SVG: {font: \"STIX-Web\"}});}\n",
       "        if (typeof require !== 'undefined') {\n",
       "        require.undef(\"plotly\");\n",
       "        requirejs.config({\n",
       "            paths: {\n",
       "                'plotly': ['https://cdn.plot.ly/plotly-2.9.0.min']\n",
       "            }\n",
       "        });\n",
       "        require(['plotly'], function(Plotly) {\n",
       "            window._Plotly = Plotly;\n",
       "        });\n",
       "        }\n",
       "        </script>\n",
       "        "
      ]
     },
     "metadata": {},
     "output_type": "display_data"
    }
   ],
   "source": [
    "import plotly.graph_objs as go \n",
    "from plotly.offline import init_notebook_mode, iplot, plot\n",
    "init_notebook_mode(connected=True)"
   ]
  },
  {
   "cell_type": "code",
   "execution_count": 14,
   "id": "fbc1044f",
   "metadata": {},
   "outputs": [],
   "source": [
    "import pandas as pd"
   ]
  },
  {
   "cell_type": "code",
   "execution_count": 15,
   "id": "53e6a755",
   "metadata": {},
   "outputs": [
    {
     "data": {
      "text/html": [
       "<div>\n",
       "<style scoped>\n",
       "    .dataframe tbody tr th:only-of-type {\n",
       "        vertical-align: middle;\n",
       "    }\n",
       "\n",
       "    .dataframe tbody tr th {\n",
       "        vertical-align: top;\n",
       "    }\n",
       "\n",
       "    .dataframe thead th {\n",
       "        text-align: right;\n",
       "    }\n",
       "</style>\n",
       "<table border=\"1\" class=\"dataframe\">\n",
       "  <thead>\n",
       "    <tr style=\"text-align: right;\">\n",
       "      <th></th>\n",
       "      <th>Country</th>\n",
       "      <th>Power Consumption KWH</th>\n",
       "      <th>Text</th>\n",
       "    </tr>\n",
       "  </thead>\n",
       "  <tbody>\n",
       "    <tr>\n",
       "      <th>0</th>\n",
       "      <td>China</td>\n",
       "      <td>5.523000e+12</td>\n",
       "      <td>China 5,523,000,000,000</td>\n",
       "    </tr>\n",
       "    <tr>\n",
       "      <th>1</th>\n",
       "      <td>United States</td>\n",
       "      <td>3.832000e+12</td>\n",
       "      <td>United 3,832,000,000,000</td>\n",
       "    </tr>\n",
       "    <tr>\n",
       "      <th>2</th>\n",
       "      <td>European</td>\n",
       "      <td>2.771000e+12</td>\n",
       "      <td>European 2,771,000,000,000</td>\n",
       "    </tr>\n",
       "    <tr>\n",
       "      <th>3</th>\n",
       "      <td>Russia</td>\n",
       "      <td>1.065000e+12</td>\n",
       "      <td>Russia 1,065,000,000,000</td>\n",
       "    </tr>\n",
       "    <tr>\n",
       "      <th>4</th>\n",
       "      <td>Japan</td>\n",
       "      <td>9.210000e+11</td>\n",
       "      <td>Japan 921,000,000,000</td>\n",
       "    </tr>\n",
       "  </tbody>\n",
       "</table>\n",
       "</div>"
      ],
      "text/plain": [
       "         Country  Power Consumption KWH                        Text\n",
       "0          China           5.523000e+12     China 5,523,000,000,000\n",
       "1  United States           3.832000e+12    United 3,832,000,000,000\n",
       "2       European           2.771000e+12  European 2,771,000,000,000\n",
       "3         Russia           1.065000e+12    Russia 1,065,000,000,000\n",
       "4          Japan           9.210000e+11       Japan 921,000,000,000"
      ]
     },
     "execution_count": 15,
     "metadata": {},
     "output_type": "execute_result"
    }
   ],
   "source": [
    "df = pd.read_csv(\"2014_World_Power_Consumption\")\n",
    "df.head()"
   ]
  },
  {
   "cell_type": "code",
   "execution_count": 16,
   "id": "a4a01440",
   "metadata": {},
   "outputs": [],
   "source": [
    "data = dict( \n",
    "    type = 'choropleth', \n",
    "    colorscale = 'Viridis', \n",
    "    reversescale = True, \n",
    "    locations = df['Country'], \n",
    "    locationmode = \"country names\", \n",
    "    z = df['Power Consumption KWH'], \n",
    "    text = df['Country'], \n",
    "    colorbar = {\"title\":'Power Consumption KWH'},\n",
    "  )\n",
    "\n",
    "layout = dict(title = '2014 Power Consumption KWH', \n",
    "              geo = dict(showframe = False,projection = {'type':'mercator'}) \n",
    "            )"
   ]
  },
  {
   "cell_type": "code",
   "execution_count": 17,
   "id": "21d2c79b",
   "metadata": {},
   "outputs": [
    {
     "data": {
      "application/vnd.plotly.v1+json": {
       "config": {
        "linkText": "Export to plot.ly",
        "plotlyServerURL": "https://plot.ly",
        "showLink": false
       },
       "data": [
        {
         "colorbar": {
          "title": {
           "text": "Power Consumption KWH"
          }
         },
         "colorscale": [
          [
           0,
           "#440154"
          ],
          [
           0.1111111111111111,
           "#482878"
          ],
          [
           0.2222222222222222,
           "#3e4989"
          ],
          [
           0.3333333333333333,
           "#31688e"
          ],
          [
           0.4444444444444444,
           "#26828e"
          ],
          [
           0.5555555555555556,
           "#1f9e89"
          ],
          [
           0.6666666666666666,
           "#35b779"
          ],
          [
           0.7777777777777778,
           "#6ece58"
          ],
          [
           0.8888888888888888,
           "#b5de2b"
          ],
          [
           1,
           "#fde725"
          ]
         ],
         "locationmode": "country names",
         "locations": [
          "China",
          "United States",
          "European",
          "Russia",
          "Japan",
          "India",
          "Germany",
          "Canada",
          "Brazil",
          "Korea,",
          "France",
          "United Kingdom",
          "Italy",
          "Taiwan",
          "Spain",
          "Mexico",
          "Saudi",
          "Australia",
          "South",
          "Turkey",
          "Iran",
          "Indonesia",
          "Ukraine",
          "Thailand",
          "Poland",
          "Egypt",
          "Sweden",
          "Norway",
          "Malaysia",
          "Argentina",
          "Netherlands",
          "Vietnam",
          "Venezuela",
          "United Arab Emirates",
          "Finland",
          "Belgium",
          "Kazakhstan",
          "Pakistan",
          "Philippines",
          "Austria",
          "Chile",
          "Czechia",
          "Israel",
          "Switzerland",
          "Greece",
          "Iraq",
          "Romania",
          "Kuwait",
          "Colombia",
          "Singapore",
          "Portugal",
          "Uzbekistan",
          "Hong",
          "Algeria",
          "Bangladesh",
          "New",
          "Bulgaria",
          "Belarus",
          "Peru",
          "Denmark",
          "Qatar",
          "Slovakia",
          "Libya",
          "Serbia",
          "Morocco",
          "Syria",
          "Nigeria",
          "Ireland",
          "Hungary",
          "Oman",
          "Ecuador",
          "Puerto",
          "Azerbaijan",
          "Croatia",
          "Iceland",
          "Cuba",
          "Korea,",
          "Dominican",
          "Jordan",
          "Tajikistan",
          "Tunisia",
          "Slovenia",
          "Lebanon",
          "Bosnia",
          "Turkmenistan",
          "Bahrain",
          "Mozambique",
          "Ghana",
          "Sri",
          "Kyrgyzstan",
          "Lithuania",
          "Uruguay",
          "Costa",
          "Guatemala",
          "Georgia",
          "Trinidad",
          "Zambia",
          "Paraguay",
          "Albania",
          "Burma",
          "Estonia",
          "Congo,",
          "Panama",
          "Latvia",
          "Macedonia",
          "Zimbabwe",
          "Kenya",
          "Bolivia",
          "Luxembourg",
          "Sudan",
          "El",
          "Cameroon",
          "West",
          "Ethiopia",
          "Armenia",
          "Honduras",
          "Angola",
          "Cote",
          "Tanzania",
          "Nicaragua",
          "Moldova",
          "Cyprus",
          "Macau",
          "Namibia",
          "Mongolia",
          "Afghanistan",
          "Yemen",
          "Brunei",
          "Cambodia",
          "Montenegro",
          "Nepal",
          "Botswana",
          "Papua",
          "Jamaica",
          "Kosovo",
          "Laos",
          "Uganda",
          "New",
          "Mauritius",
          "Senegal",
          "Bhutan",
          "Malawi",
          "Madagascar",
          "Bahamas,",
          "Gabon",
          "Suriname",
          "Guam",
          "Liechtenstein",
          "Swaziland",
          "Burkina",
          "Togo",
          "Curacao",
          "Mauritania",
          "Barbados",
          "Niger",
          "Aruba",
          "Benin",
          "Guinea",
          "Mali",
          "Fiji",
          "Congo,",
          "Virgin",
          "Lesotho",
          "South",
          "Bermuda",
          "French",
          "Jersey",
          "Belize",
          "Andorra",
          "Guyana",
          "Cayman",
          "Haiti",
          "Rwanda",
          "Saint",
          "Djibouti",
          "Seychelles",
          "Somalia",
          "Antigua",
          "Greenland",
          "Cabo",
          "Eritrea",
          "Burundi",
          "Liberia",
          "Maldives",
          "Faroe",
          "Gambia,",
          "Chad",
          "Micronesia,",
          "Grenada",
          "Central",
          "Turks",
          "Gibraltar",
          "American",
          "Sierra",
          "Saint",
          "Saint",
          "Timor-Leste",
          "Equatorial",
          "Samoa",
          "Dominica",
          "Western",
          "Solomon",
          "Sao",
          "British",
          "Vanuatu",
          "Guinea-Bissau",
          "Tonga",
          "Saint",
          "Comoros",
          "Cook",
          "Kiribati",
          "Montserrat",
          "Nauru",
          "Falkland",
          "Saint",
          "Niue",
          "Gaza",
          "Malta",
          "Northern"
         ],
         "reversescale": true,
         "text": [
          "China",
          "United States",
          "European",
          "Russia",
          "Japan",
          "India",
          "Germany",
          "Canada",
          "Brazil",
          "Korea,",
          "France",
          "United Kingdom",
          "Italy",
          "Taiwan",
          "Spain",
          "Mexico",
          "Saudi",
          "Australia",
          "South",
          "Turkey",
          "Iran",
          "Indonesia",
          "Ukraine",
          "Thailand",
          "Poland",
          "Egypt",
          "Sweden",
          "Norway",
          "Malaysia",
          "Argentina",
          "Netherlands",
          "Vietnam",
          "Venezuela",
          "United Arab Emirates",
          "Finland",
          "Belgium",
          "Kazakhstan",
          "Pakistan",
          "Philippines",
          "Austria",
          "Chile",
          "Czechia",
          "Israel",
          "Switzerland",
          "Greece",
          "Iraq",
          "Romania",
          "Kuwait",
          "Colombia",
          "Singapore",
          "Portugal",
          "Uzbekistan",
          "Hong",
          "Algeria",
          "Bangladesh",
          "New",
          "Bulgaria",
          "Belarus",
          "Peru",
          "Denmark",
          "Qatar",
          "Slovakia",
          "Libya",
          "Serbia",
          "Morocco",
          "Syria",
          "Nigeria",
          "Ireland",
          "Hungary",
          "Oman",
          "Ecuador",
          "Puerto",
          "Azerbaijan",
          "Croatia",
          "Iceland",
          "Cuba",
          "Korea,",
          "Dominican",
          "Jordan",
          "Tajikistan",
          "Tunisia",
          "Slovenia",
          "Lebanon",
          "Bosnia",
          "Turkmenistan",
          "Bahrain",
          "Mozambique",
          "Ghana",
          "Sri",
          "Kyrgyzstan",
          "Lithuania",
          "Uruguay",
          "Costa",
          "Guatemala",
          "Georgia",
          "Trinidad",
          "Zambia",
          "Paraguay",
          "Albania",
          "Burma",
          "Estonia",
          "Congo,",
          "Panama",
          "Latvia",
          "Macedonia",
          "Zimbabwe",
          "Kenya",
          "Bolivia",
          "Luxembourg",
          "Sudan",
          "El",
          "Cameroon",
          "West",
          "Ethiopia",
          "Armenia",
          "Honduras",
          "Angola",
          "Cote",
          "Tanzania",
          "Nicaragua",
          "Moldova",
          "Cyprus",
          "Macau",
          "Namibia",
          "Mongolia",
          "Afghanistan",
          "Yemen",
          "Brunei",
          "Cambodia",
          "Montenegro",
          "Nepal",
          "Botswana",
          "Papua",
          "Jamaica",
          "Kosovo",
          "Laos",
          "Uganda",
          "New",
          "Mauritius",
          "Senegal",
          "Bhutan",
          "Malawi",
          "Madagascar",
          "Bahamas,",
          "Gabon",
          "Suriname",
          "Guam",
          "Liechtenstein",
          "Swaziland",
          "Burkina",
          "Togo",
          "Curacao",
          "Mauritania",
          "Barbados",
          "Niger",
          "Aruba",
          "Benin",
          "Guinea",
          "Mali",
          "Fiji",
          "Congo,",
          "Virgin",
          "Lesotho",
          "South",
          "Bermuda",
          "French",
          "Jersey",
          "Belize",
          "Andorra",
          "Guyana",
          "Cayman",
          "Haiti",
          "Rwanda",
          "Saint",
          "Djibouti",
          "Seychelles",
          "Somalia",
          "Antigua",
          "Greenland",
          "Cabo",
          "Eritrea",
          "Burundi",
          "Liberia",
          "Maldives",
          "Faroe",
          "Gambia,",
          "Chad",
          "Micronesia,",
          "Grenada",
          "Central",
          "Turks",
          "Gibraltar",
          "American",
          "Sierra",
          "Saint",
          "Saint",
          "Timor-Leste",
          "Equatorial",
          "Samoa",
          "Dominica",
          "Western",
          "Solomon",
          "Sao",
          "British",
          "Vanuatu",
          "Guinea-Bissau",
          "Tonga",
          "Saint",
          "Comoros",
          "Cook",
          "Kiribati",
          "Montserrat",
          "Nauru",
          "Falkland",
          "Saint",
          "Niue",
          "Gaza",
          "Malta",
          "Northern"
         ],
         "type": "choropleth",
         "z": [
          5523000000000,
          3832000000000,
          2771000000000,
          1065000000000,
          921000000000,
          864700000000,
          540100000000,
          511000000000,
          483500000000,
          482400000000,
          451100000000,
          319100000000,
          303100000000,
          249500000000,
          243100000000,
          234000000000,
          231600000000,
          222600000000,
          211600000000,
          197000000000,
          195300000000,
          167500000000,
          159800000000,
          155900000000,
          139000000000,
          135600000000,
          130500000000,
          126400000000,
          118500000000,
          117100000000,
          116800000000,
          108300000000,
          97690000000,
          93280000000,
          82040000000,
          81890000000,
          80290000000,
          78890000000,
          75270000000,
          69750000000,
          63390000000,
          60550000000,
          59830000000,
          58010000000,
          57730000000,
          53410000000,
          50730000000,
          50000000000,
          49380000000,
          47180000000,
          46250000000,
          45210000000,
          44210000000,
          42870000000,
          41520000000,
          40300000000,
          37990000000,
          37880000000,
          35690000000,
          31960000000,
          30530000000,
          28360000000,
          27540000000,
          26910000000,
          26700000000,
          25700000000,
          24780000000,
          24240000000,
          21550000000,
          20360000000,
          19020000000,
          18620000000,
          17790000000,
          16970000000,
          16940000000,
          16200000000,
          16000000000,
          15140000000,
          14560000000,
          14420000000,
          13310000000,
          13020000000,
          12940000000,
          12560000000,
          11750000000,
          11690000000,
          11280000000,
          10580000000,
          10170000000,
          9943000000,
          9664000000,
          9559000000,
          8987000000,
          8915000000,
          8468000000,
          8365000000,
          8327000000,
          8125000000,
          7793000000,
          7765000000,
          7417000000,
          7292000000,
          7144000000,
          7141000000,
          6960000000,
          6831000000,
          6627000000,
          6456000000,
          6108000000,
          5665000000,
          5665000000,
          5535000000,
          5312000000,
          5227000000,
          5043000000,
          5036000000,
          4842000000,
          4731000000,
          4545000000,
          4412000000,
          4305000000,
          4296000000,
          4291000000,
          4238000000,
          4204000000,
          3893000000,
          3838000000,
          3766000000,
          3553000000,
          3465000000,
          3239000000,
          3213000000,
          3116000000,
          3008000000,
          2887000000,
          2874000000,
          2821000000,
          2716000000,
          2658000000,
          2586000000,
          2085000000,
          2027000000,
          1883000000,
          1716000000,
          1680000000,
          1572000000,
          1566000000,
          1360000000,
          1295000000,
          985500000,
          976000000,
          968000000,
          962600000,
          938000000,
          930200000,
          920700000,
          911000000,
          903000000,
          882600000,
          777600000,
          740000000,
          723500000,
          707000000,
          694100000,
          664200000,
          652900000,
          630100000,
          605000000,
          562400000,
          558000000,
          545900000,
          452000000,
          365500000,
          336400000,
          311600000,
          293900000,
          293000000,
          293000000,
          292000000,
          285500000,
          284000000,
          282900000,
          276900000,
          267100000,
          261300000,
          218600000,
          190700000,
          178600000,
          178000000,
          168300000,
          167400000,
          160000000,
          146000000,
          134900000,
          130200000,
          127400000,
          125300000,
          93000000,
          90400000,
          89750000,
          83700000,
          79050000,
          60450000,
          51150000,
          49290000,
          46500000,
          44640000,
          39990000,
          39990000,
          28950000,
          24180000,
          23250000,
          23250000,
          11160000,
          7440000,
          2790000,
          202000,
          174700,
          48300
         ]
        }
       ],
       "layout": {
        "geo": {
         "projection": {
          "type": "mercator"
         },
         "showframe": false
        },
        "template": {
         "data": {
          "bar": [
           {
            "error_x": {
             "color": "#2a3f5f"
            },
            "error_y": {
             "color": "#2a3f5f"
            },
            "marker": {
             "line": {
              "color": "#E5ECF6",
              "width": 0.5
             },
             "pattern": {
              "fillmode": "overlay",
              "size": 10,
              "solidity": 0.2
             }
            },
            "type": "bar"
           }
          ],
          "barpolar": [
           {
            "marker": {
             "line": {
              "color": "#E5ECF6",
              "width": 0.5
             },
             "pattern": {
              "fillmode": "overlay",
              "size": 10,
              "solidity": 0.2
             }
            },
            "type": "barpolar"
           }
          ],
          "carpet": [
           {
            "aaxis": {
             "endlinecolor": "#2a3f5f",
             "gridcolor": "white",
             "linecolor": "white",
             "minorgridcolor": "white",
             "startlinecolor": "#2a3f5f"
            },
            "baxis": {
             "endlinecolor": "#2a3f5f",
             "gridcolor": "white",
             "linecolor": "white",
             "minorgridcolor": "white",
             "startlinecolor": "#2a3f5f"
            },
            "type": "carpet"
           }
          ],
          "choropleth": [
           {
            "colorbar": {
             "outlinewidth": 0,
             "ticks": ""
            },
            "type": "choropleth"
           }
          ],
          "contour": [
           {
            "colorbar": {
             "outlinewidth": 0,
             "ticks": ""
            },
            "colorscale": [
             [
              0,
              "#0d0887"
             ],
             [
              0.1111111111111111,
              "#46039f"
             ],
             [
              0.2222222222222222,
              "#7201a8"
             ],
             [
              0.3333333333333333,
              "#9c179e"
             ],
             [
              0.4444444444444444,
              "#bd3786"
             ],
             [
              0.5555555555555556,
              "#d8576b"
             ],
             [
              0.6666666666666666,
              "#ed7953"
             ],
             [
              0.7777777777777778,
              "#fb9f3a"
             ],
             [
              0.8888888888888888,
              "#fdca26"
             ],
             [
              1,
              "#f0f921"
             ]
            ],
            "type": "contour"
           }
          ],
          "contourcarpet": [
           {
            "colorbar": {
             "outlinewidth": 0,
             "ticks": ""
            },
            "type": "contourcarpet"
           }
          ],
          "heatmap": [
           {
            "colorbar": {
             "outlinewidth": 0,
             "ticks": ""
            },
            "colorscale": [
             [
              0,
              "#0d0887"
             ],
             [
              0.1111111111111111,
              "#46039f"
             ],
             [
              0.2222222222222222,
              "#7201a8"
             ],
             [
              0.3333333333333333,
              "#9c179e"
             ],
             [
              0.4444444444444444,
              "#bd3786"
             ],
             [
              0.5555555555555556,
              "#d8576b"
             ],
             [
              0.6666666666666666,
              "#ed7953"
             ],
             [
              0.7777777777777778,
              "#fb9f3a"
             ],
             [
              0.8888888888888888,
              "#fdca26"
             ],
             [
              1,
              "#f0f921"
             ]
            ],
            "type": "heatmap"
           }
          ],
          "heatmapgl": [
           {
            "colorbar": {
             "outlinewidth": 0,
             "ticks": ""
            },
            "colorscale": [
             [
              0,
              "#0d0887"
             ],
             [
              0.1111111111111111,
              "#46039f"
             ],
             [
              0.2222222222222222,
              "#7201a8"
             ],
             [
              0.3333333333333333,
              "#9c179e"
             ],
             [
              0.4444444444444444,
              "#bd3786"
             ],
             [
              0.5555555555555556,
              "#d8576b"
             ],
             [
              0.6666666666666666,
              "#ed7953"
             ],
             [
              0.7777777777777778,
              "#fb9f3a"
             ],
             [
              0.8888888888888888,
              "#fdca26"
             ],
             [
              1,
              "#f0f921"
             ]
            ],
            "type": "heatmapgl"
           }
          ],
          "histogram": [
           {
            "marker": {
             "pattern": {
              "fillmode": "overlay",
              "size": 10,
              "solidity": 0.2
             }
            },
            "type": "histogram"
           }
          ],
          "histogram2d": [
           {
            "colorbar": {
             "outlinewidth": 0,
             "ticks": ""
            },
            "colorscale": [
             [
              0,
              "#0d0887"
             ],
             [
              0.1111111111111111,
              "#46039f"
             ],
             [
              0.2222222222222222,
              "#7201a8"
             ],
             [
              0.3333333333333333,
              "#9c179e"
             ],
             [
              0.4444444444444444,
              "#bd3786"
             ],
             [
              0.5555555555555556,
              "#d8576b"
             ],
             [
              0.6666666666666666,
              "#ed7953"
             ],
             [
              0.7777777777777778,
              "#fb9f3a"
             ],
             [
              0.8888888888888888,
              "#fdca26"
             ],
             [
              1,
              "#f0f921"
             ]
            ],
            "type": "histogram2d"
           }
          ],
          "histogram2dcontour": [
           {
            "colorbar": {
             "outlinewidth": 0,
             "ticks": ""
            },
            "colorscale": [
             [
              0,
              "#0d0887"
             ],
             [
              0.1111111111111111,
              "#46039f"
             ],
             [
              0.2222222222222222,
              "#7201a8"
             ],
             [
              0.3333333333333333,
              "#9c179e"
             ],
             [
              0.4444444444444444,
              "#bd3786"
             ],
             [
              0.5555555555555556,
              "#d8576b"
             ],
             [
              0.6666666666666666,
              "#ed7953"
             ],
             [
              0.7777777777777778,
              "#fb9f3a"
             ],
             [
              0.8888888888888888,
              "#fdca26"
             ],
             [
              1,
              "#f0f921"
             ]
            ],
            "type": "histogram2dcontour"
           }
          ],
          "mesh3d": [
           {
            "colorbar": {
             "outlinewidth": 0,
             "ticks": ""
            },
            "type": "mesh3d"
           }
          ],
          "parcoords": [
           {
            "line": {
             "colorbar": {
              "outlinewidth": 0,
              "ticks": ""
             }
            },
            "type": "parcoords"
           }
          ],
          "pie": [
           {
            "automargin": true,
            "type": "pie"
           }
          ],
          "scatter": [
           {
            "marker": {
             "colorbar": {
              "outlinewidth": 0,
              "ticks": ""
             }
            },
            "type": "scatter"
           }
          ],
          "scatter3d": [
           {
            "line": {
             "colorbar": {
              "outlinewidth": 0,
              "ticks": ""
             }
            },
            "marker": {
             "colorbar": {
              "outlinewidth": 0,
              "ticks": ""
             }
            },
            "type": "scatter3d"
           }
          ],
          "scattercarpet": [
           {
            "marker": {
             "colorbar": {
              "outlinewidth": 0,
              "ticks": ""
             }
            },
            "type": "scattercarpet"
           }
          ],
          "scattergeo": [
           {
            "marker": {
             "colorbar": {
              "outlinewidth": 0,
              "ticks": ""
             }
            },
            "type": "scattergeo"
           }
          ],
          "scattergl": [
           {
            "marker": {
             "colorbar": {
              "outlinewidth": 0,
              "ticks": ""
             }
            },
            "type": "scattergl"
           }
          ],
          "scattermapbox": [
           {
            "marker": {
             "colorbar": {
              "outlinewidth": 0,
              "ticks": ""
             }
            },
            "type": "scattermapbox"
           }
          ],
          "scatterpolar": [
           {
            "marker": {
             "colorbar": {
              "outlinewidth": 0,
              "ticks": ""
             }
            },
            "type": "scatterpolar"
           }
          ],
          "scatterpolargl": [
           {
            "marker": {
             "colorbar": {
              "outlinewidth": 0,
              "ticks": ""
             }
            },
            "type": "scatterpolargl"
           }
          ],
          "scatterternary": [
           {
            "marker": {
             "colorbar": {
              "outlinewidth": 0,
              "ticks": ""
             }
            },
            "type": "scatterternary"
           }
          ],
          "surface": [
           {
            "colorbar": {
             "outlinewidth": 0,
             "ticks": ""
            },
            "colorscale": [
             [
              0,
              "#0d0887"
             ],
             [
              0.1111111111111111,
              "#46039f"
             ],
             [
              0.2222222222222222,
              "#7201a8"
             ],
             [
              0.3333333333333333,
              "#9c179e"
             ],
             [
              0.4444444444444444,
              "#bd3786"
             ],
             [
              0.5555555555555556,
              "#d8576b"
             ],
             [
              0.6666666666666666,
              "#ed7953"
             ],
             [
              0.7777777777777778,
              "#fb9f3a"
             ],
             [
              0.8888888888888888,
              "#fdca26"
             ],
             [
              1,
              "#f0f921"
             ]
            ],
            "type": "surface"
           }
          ],
          "table": [
           {
            "cells": {
             "fill": {
              "color": "#EBF0F8"
             },
             "line": {
              "color": "white"
             }
            },
            "header": {
             "fill": {
              "color": "#C8D4E3"
             },
             "line": {
              "color": "white"
             }
            },
            "type": "table"
           }
          ]
         },
         "layout": {
          "annotationdefaults": {
           "arrowcolor": "#2a3f5f",
           "arrowhead": 0,
           "arrowwidth": 1
          },
          "autotypenumbers": "strict",
          "coloraxis": {
           "colorbar": {
            "outlinewidth": 0,
            "ticks": ""
           }
          },
          "colorscale": {
           "diverging": [
            [
             0,
             "#8e0152"
            ],
            [
             0.1,
             "#c51b7d"
            ],
            [
             0.2,
             "#de77ae"
            ],
            [
             0.3,
             "#f1b6da"
            ],
            [
             0.4,
             "#fde0ef"
            ],
            [
             0.5,
             "#f7f7f7"
            ],
            [
             0.6,
             "#e6f5d0"
            ],
            [
             0.7,
             "#b8e186"
            ],
            [
             0.8,
             "#7fbc41"
            ],
            [
             0.9,
             "#4d9221"
            ],
            [
             1,
             "#276419"
            ]
           ],
           "sequential": [
            [
             0,
             "#0d0887"
            ],
            [
             0.1111111111111111,
             "#46039f"
            ],
            [
             0.2222222222222222,
             "#7201a8"
            ],
            [
             0.3333333333333333,
             "#9c179e"
            ],
            [
             0.4444444444444444,
             "#bd3786"
            ],
            [
             0.5555555555555556,
             "#d8576b"
            ],
            [
             0.6666666666666666,
             "#ed7953"
            ],
            [
             0.7777777777777778,
             "#fb9f3a"
            ],
            [
             0.8888888888888888,
             "#fdca26"
            ],
            [
             1,
             "#f0f921"
            ]
           ],
           "sequentialminus": [
            [
             0,
             "#0d0887"
            ],
            [
             0.1111111111111111,
             "#46039f"
            ],
            [
             0.2222222222222222,
             "#7201a8"
            ],
            [
             0.3333333333333333,
             "#9c179e"
            ],
            [
             0.4444444444444444,
             "#bd3786"
            ],
            [
             0.5555555555555556,
             "#d8576b"
            ],
            [
             0.6666666666666666,
             "#ed7953"
            ],
            [
             0.7777777777777778,
             "#fb9f3a"
            ],
            [
             0.8888888888888888,
             "#fdca26"
            ],
            [
             1,
             "#f0f921"
            ]
           ]
          },
          "colorway": [
           "#636efa",
           "#EF553B",
           "#00cc96",
           "#ab63fa",
           "#FFA15A",
           "#19d3f3",
           "#FF6692",
           "#B6E880",
           "#FF97FF",
           "#FECB52"
          ],
          "font": {
           "color": "#2a3f5f"
          },
          "geo": {
           "bgcolor": "white",
           "lakecolor": "white",
           "landcolor": "#E5ECF6",
           "showlakes": true,
           "showland": true,
           "subunitcolor": "white"
          },
          "hoverlabel": {
           "align": "left"
          },
          "hovermode": "closest",
          "mapbox": {
           "style": "light"
          },
          "paper_bgcolor": "white",
          "plot_bgcolor": "#E5ECF6",
          "polar": {
           "angularaxis": {
            "gridcolor": "white",
            "linecolor": "white",
            "ticks": ""
           },
           "bgcolor": "#E5ECF6",
           "radialaxis": {
            "gridcolor": "white",
            "linecolor": "white",
            "ticks": ""
           }
          },
          "scene": {
           "xaxis": {
            "backgroundcolor": "#E5ECF6",
            "gridcolor": "white",
            "gridwidth": 2,
            "linecolor": "white",
            "showbackground": true,
            "ticks": "",
            "zerolinecolor": "white"
           },
           "yaxis": {
            "backgroundcolor": "#E5ECF6",
            "gridcolor": "white",
            "gridwidth": 2,
            "linecolor": "white",
            "showbackground": true,
            "ticks": "",
            "zerolinecolor": "white"
           },
           "zaxis": {
            "backgroundcolor": "#E5ECF6",
            "gridcolor": "white",
            "gridwidth": 2,
            "linecolor": "white",
            "showbackground": true,
            "ticks": "",
            "zerolinecolor": "white"
           }
          },
          "shapedefaults": {
           "line": {
            "color": "#2a3f5f"
           }
          },
          "ternary": {
           "aaxis": {
            "gridcolor": "white",
            "linecolor": "white",
            "ticks": ""
           },
           "baxis": {
            "gridcolor": "white",
            "linecolor": "white",
            "ticks": ""
           },
           "bgcolor": "#E5ECF6",
           "caxis": {
            "gridcolor": "white",
            "linecolor": "white",
            "ticks": ""
           }
          },
          "title": {
           "x": 0.05
          },
          "xaxis": {
           "automargin": true,
           "gridcolor": "white",
           "linecolor": "white",
           "ticks": "",
           "title": {
            "standoff": 15
           },
           "zerolinecolor": "white",
           "zerolinewidth": 2
          },
          "yaxis": {
           "automargin": true,
           "gridcolor": "white",
           "linecolor": "white",
           "ticks": "",
           "title": {
            "standoff": 15
           },
           "zerolinecolor": "white",
           "zerolinewidth": 2
          }
         }
        },
        "title": {
         "text": "2014 Power Consumption KWH"
        }
       }
      },
      "text/html": [
       "<div>                            <div id=\"7bc00842-0a96-45e1-87c0-43ecb7b63246\" class=\"plotly-graph-div\" style=\"height:525px; width:100%;\"></div>            <script type=\"text/javascript\">                require([\"plotly\"], function(Plotly) {                    window.PLOTLYENV=window.PLOTLYENV || {};                                    if (document.getElementById(\"7bc00842-0a96-45e1-87c0-43ecb7b63246\")) {                    Plotly.newPlot(                        \"7bc00842-0a96-45e1-87c0-43ecb7b63246\",                        [{\"colorbar\":{\"title\":{\"text\":\"Power Consumption KWH\"}},\"colorscale\":[[0.0,\"#440154\"],[0.1111111111111111,\"#482878\"],[0.2222222222222222,\"#3e4989\"],[0.3333333333333333,\"#31688e\"],[0.4444444444444444,\"#26828e\"],[0.5555555555555556,\"#1f9e89\"],[0.6666666666666666,\"#35b779\"],[0.7777777777777778,\"#6ece58\"],[0.8888888888888888,\"#b5de2b\"],[1.0,\"#fde725\"]],\"locationmode\":\"country names\",\"locations\":[\"China\",\"United States\",\"European\",\"Russia\",\"Japan\",\"India\",\"Germany\",\"Canada\",\"Brazil\",\"Korea,\",\"France\",\"United Kingdom\",\"Italy\",\"Taiwan\",\"Spain\",\"Mexico\",\"Saudi\",\"Australia\",\"South\",\"Turkey\",\"Iran\",\"Indonesia\",\"Ukraine\",\"Thailand\",\"Poland\",\"Egypt\",\"Sweden\",\"Norway\",\"Malaysia\",\"Argentina\",\"Netherlands\",\"Vietnam\",\"Venezuela\",\"United Arab Emirates\",\"Finland\",\"Belgium\",\"Kazakhstan\",\"Pakistan\",\"Philippines\",\"Austria\",\"Chile\",\"Czechia\",\"Israel\",\"Switzerland\",\"Greece\",\"Iraq\",\"Romania\",\"Kuwait\",\"Colombia\",\"Singapore\",\"Portugal\",\"Uzbekistan\",\"Hong\",\"Algeria\",\"Bangladesh\",\"New\",\"Bulgaria\",\"Belarus\",\"Peru\",\"Denmark\",\"Qatar\",\"Slovakia\",\"Libya\",\"Serbia\",\"Morocco\",\"Syria\",\"Nigeria\",\"Ireland\",\"Hungary\",\"Oman\",\"Ecuador\",\"Puerto\",\"Azerbaijan\",\"Croatia\",\"Iceland\",\"Cuba\",\"Korea,\",\"Dominican\",\"Jordan\",\"Tajikistan\",\"Tunisia\",\"Slovenia\",\"Lebanon\",\"Bosnia\",\"Turkmenistan\",\"Bahrain\",\"Mozambique\",\"Ghana\",\"Sri\",\"Kyrgyzstan\",\"Lithuania\",\"Uruguay\",\"Costa\",\"Guatemala\",\"Georgia\",\"Trinidad\",\"Zambia\",\"Paraguay\",\"Albania\",\"Burma\",\"Estonia\",\"Congo,\",\"Panama\",\"Latvia\",\"Macedonia\",\"Zimbabwe\",\"Kenya\",\"Bolivia\",\"Luxembourg\",\"Sudan\",\"El\",\"Cameroon\",\"West\",\"Ethiopia\",\"Armenia\",\"Honduras\",\"Angola\",\"Cote\",\"Tanzania\",\"Nicaragua\",\"Moldova\",\"Cyprus\",\"Macau\",\"Namibia\",\"Mongolia\",\"Afghanistan\",\"Yemen\",\"Brunei\",\"Cambodia\",\"Montenegro\",\"Nepal\",\"Botswana\",\"Papua\",\"Jamaica\",\"Kosovo\",\"Laos\",\"Uganda\",\"New\",\"Mauritius\",\"Senegal\",\"Bhutan\",\"Malawi\",\"Madagascar\",\"Bahamas,\",\"Gabon\",\"Suriname\",\"Guam\",\"Liechtenstein\",\"Swaziland\",\"Burkina\",\"Togo\",\"Curacao\",\"Mauritania\",\"Barbados\",\"Niger\",\"Aruba\",\"Benin\",\"Guinea\",\"Mali\",\"Fiji\",\"Congo,\",\"Virgin\",\"Lesotho\",\"South\",\"Bermuda\",\"French\",\"Jersey\",\"Belize\",\"Andorra\",\"Guyana\",\"Cayman\",\"Haiti\",\"Rwanda\",\"Saint\",\"Djibouti\",\"Seychelles\",\"Somalia\",\"Antigua\",\"Greenland\",\"Cabo\",\"Eritrea\",\"Burundi\",\"Liberia\",\"Maldives\",\"Faroe\",\"Gambia,\",\"Chad\",\"Micronesia,\",\"Grenada\",\"Central\",\"Turks\",\"Gibraltar\",\"American\",\"Sierra\",\"Saint\",\"Saint\",\"Timor-Leste\",\"Equatorial\",\"Samoa\",\"Dominica\",\"Western\",\"Solomon\",\"Sao\",\"British\",\"Vanuatu\",\"Guinea-Bissau\",\"Tonga\",\"Saint\",\"Comoros\",\"Cook\",\"Kiribati\",\"Montserrat\",\"Nauru\",\"Falkland\",\"Saint\",\"Niue\",\"Gaza\",\"Malta\",\"Northern\"],\"reversescale\":true,\"text\":[\"China\",\"United States\",\"European\",\"Russia\",\"Japan\",\"India\",\"Germany\",\"Canada\",\"Brazil\",\"Korea,\",\"France\",\"United Kingdom\",\"Italy\",\"Taiwan\",\"Spain\",\"Mexico\",\"Saudi\",\"Australia\",\"South\",\"Turkey\",\"Iran\",\"Indonesia\",\"Ukraine\",\"Thailand\",\"Poland\",\"Egypt\",\"Sweden\",\"Norway\",\"Malaysia\",\"Argentina\",\"Netherlands\",\"Vietnam\",\"Venezuela\",\"United Arab Emirates\",\"Finland\",\"Belgium\",\"Kazakhstan\",\"Pakistan\",\"Philippines\",\"Austria\",\"Chile\",\"Czechia\",\"Israel\",\"Switzerland\",\"Greece\",\"Iraq\",\"Romania\",\"Kuwait\",\"Colombia\",\"Singapore\",\"Portugal\",\"Uzbekistan\",\"Hong\",\"Algeria\",\"Bangladesh\",\"New\",\"Bulgaria\",\"Belarus\",\"Peru\",\"Denmark\",\"Qatar\",\"Slovakia\",\"Libya\",\"Serbia\",\"Morocco\",\"Syria\",\"Nigeria\",\"Ireland\",\"Hungary\",\"Oman\",\"Ecuador\",\"Puerto\",\"Azerbaijan\",\"Croatia\",\"Iceland\",\"Cuba\",\"Korea,\",\"Dominican\",\"Jordan\",\"Tajikistan\",\"Tunisia\",\"Slovenia\",\"Lebanon\",\"Bosnia\",\"Turkmenistan\",\"Bahrain\",\"Mozambique\",\"Ghana\",\"Sri\",\"Kyrgyzstan\",\"Lithuania\",\"Uruguay\",\"Costa\",\"Guatemala\",\"Georgia\",\"Trinidad\",\"Zambia\",\"Paraguay\",\"Albania\",\"Burma\",\"Estonia\",\"Congo,\",\"Panama\",\"Latvia\",\"Macedonia\",\"Zimbabwe\",\"Kenya\",\"Bolivia\",\"Luxembourg\",\"Sudan\",\"El\",\"Cameroon\",\"West\",\"Ethiopia\",\"Armenia\",\"Honduras\",\"Angola\",\"Cote\",\"Tanzania\",\"Nicaragua\",\"Moldova\",\"Cyprus\",\"Macau\",\"Namibia\",\"Mongolia\",\"Afghanistan\",\"Yemen\",\"Brunei\",\"Cambodia\",\"Montenegro\",\"Nepal\",\"Botswana\",\"Papua\",\"Jamaica\",\"Kosovo\",\"Laos\",\"Uganda\",\"New\",\"Mauritius\",\"Senegal\",\"Bhutan\",\"Malawi\",\"Madagascar\",\"Bahamas,\",\"Gabon\",\"Suriname\",\"Guam\",\"Liechtenstein\",\"Swaziland\",\"Burkina\",\"Togo\",\"Curacao\",\"Mauritania\",\"Barbados\",\"Niger\",\"Aruba\",\"Benin\",\"Guinea\",\"Mali\",\"Fiji\",\"Congo,\",\"Virgin\",\"Lesotho\",\"South\",\"Bermuda\",\"French\",\"Jersey\",\"Belize\",\"Andorra\",\"Guyana\",\"Cayman\",\"Haiti\",\"Rwanda\",\"Saint\",\"Djibouti\",\"Seychelles\",\"Somalia\",\"Antigua\",\"Greenland\",\"Cabo\",\"Eritrea\",\"Burundi\",\"Liberia\",\"Maldives\",\"Faroe\",\"Gambia,\",\"Chad\",\"Micronesia,\",\"Grenada\",\"Central\",\"Turks\",\"Gibraltar\",\"American\",\"Sierra\",\"Saint\",\"Saint\",\"Timor-Leste\",\"Equatorial\",\"Samoa\",\"Dominica\",\"Western\",\"Solomon\",\"Sao\",\"British\",\"Vanuatu\",\"Guinea-Bissau\",\"Tonga\",\"Saint\",\"Comoros\",\"Cook\",\"Kiribati\",\"Montserrat\",\"Nauru\",\"Falkland\",\"Saint\",\"Niue\",\"Gaza\",\"Malta\",\"Northern\"],\"z\":[5523000000000.0,3832000000000.0,2771000000000.0,1065000000000.0,921000000000.0,864700000000.0,540100000000.0,511000000000.0,483500000000.0,482400000000.0,451100000000.0,319100000000.0,303100000000.0,249500000000.0,243100000000.0,234000000000.0,231600000000.0,222600000000.0,211600000000.0,197000000000.0,195300000000.0,167500000000.0,159800000000.0,155900000000.0,139000000000.0,135600000000.0,130500000000.0,126400000000.0,118500000000.0,117100000000.0,116800000000.0,108300000000.0,97690000000.0,93280000000.0,82040000000.0,81890000000.0,80290000000.0,78890000000.0,75270000000.0,69750000000.0,63390000000.0,60550000000.0,59830000000.0,58010000000.0,57730000000.0,53410000000.0,50730000000.0,50000000000.0,49380000000.0,47180000000.0,46250000000.0,45210000000.0,44210000000.0,42870000000.0,41520000000.0,40300000000.0,37990000000.0,37880000000.0,35690000000.0,31960000000.0,30530000000.0,28360000000.0,27540000000.0,26910000000.0,26700000000.0,25700000000.0,24780000000.0,24240000000.0,21550000000.0,20360000000.0,19020000000.0,18620000000.0,17790000000.0,16970000000.0,16940000000.0,16200000000.0,16000000000.0,15140000000.0,14560000000.0,14420000000.0,13310000000.0,13020000000.0,12940000000.0,12560000000.0,11750000000.0,11690000000.0,11280000000.0,10580000000.0,10170000000.0,9943000000.0,9664000000.0,9559000000.0,8987000000.0,8915000000.0,8468000000.0,8365000000.0,8327000000.0,8125000000.0,7793000000.0,7765000000.0,7417000000.0,7292000000.0,7144000000.0,7141000000.0,6960000000.0,6831000000.0,6627000000.0,6456000000.0,6108000000.0,5665000000.0,5665000000.0,5535000000.0,5312000000.0,5227000000.0,5043000000.0,5036000000.0,4842000000.0,4731000000.0,4545000000.0,4412000000.0,4305000000.0,4296000000.0,4291000000.0,4238000000.0,4204000000.0,3893000000.0,3838000000.0,3766000000.0,3553000000.0,3465000000.0,3239000000.0,3213000000.0,3116000000.0,3008000000.0,2887000000.0,2874000000.0,2821000000.0,2716000000.0,2658000000.0,2586000000.0,2085000000.0,2027000000.0,1883000000.0,1716000000.0,1680000000.0,1572000000.0,1566000000.0,1360000000.0,1295000000.0,985500000.0,976000000.0,968000000.0,962600000.0,938000000.0,930200000.0,920700000.0,911000000.0,903000000.0,882600000.0,777600000.0,740000000.0,723500000.0,707000000.0,694100000.0,664200000.0,652900000.0,630100000.0,605000000.0,562400000.0,558000000.0,545900000.0,452000000.0,365500000.0,336400000.0,311600000.0,293900000.0,293000000.0,293000000.0,292000000.0,285500000.0,284000000.0,282900000.0,276900000.0,267100000.0,261300000.0,218600000.0,190700000.0,178600000.0,178000000.0,168300000.0,167400000.0,160000000.0,146000000.0,134900000.0,130200000.0,127400000.0,125300000.0,93000000.0,90400000.0,89750000.0,83700000.0,79050000.0,60450000.0,51150000.0,49290000.0,46500000.0,44640000.0,39990000.0,39990000.0,28950000.0,24180000.0,23250000.0,23250000.0,11160000.0,7440000.0,2790000.0,202000.0,174700.0,48300.0],\"type\":\"choropleth\"}],                        {\"geo\":{\"projection\":{\"type\":\"mercator\"},\"showframe\":false},\"title\":{\"text\":\"2014 Power Consumption KWH\"},\"template\":{\"data\":{\"bar\":[{\"error_x\":{\"color\":\"#2a3f5f\"},\"error_y\":{\"color\":\"#2a3f5f\"},\"marker\":{\"line\":{\"color\":\"#E5ECF6\",\"width\":0.5},\"pattern\":{\"fillmode\":\"overlay\",\"size\":10,\"solidity\":0.2}},\"type\":\"bar\"}],\"barpolar\":[{\"marker\":{\"line\":{\"color\":\"#E5ECF6\",\"width\":0.5},\"pattern\":{\"fillmode\":\"overlay\",\"size\":10,\"solidity\":0.2}},\"type\":\"barpolar\"}],\"carpet\":[{\"aaxis\":{\"endlinecolor\":\"#2a3f5f\",\"gridcolor\":\"white\",\"linecolor\":\"white\",\"minorgridcolor\":\"white\",\"startlinecolor\":\"#2a3f5f\"},\"baxis\":{\"endlinecolor\":\"#2a3f5f\",\"gridcolor\":\"white\",\"linecolor\":\"white\",\"minorgridcolor\":\"white\",\"startlinecolor\":\"#2a3f5f\"},\"type\":\"carpet\"}],\"choropleth\":[{\"colorbar\":{\"outlinewidth\":0,\"ticks\":\"\"},\"type\":\"choropleth\"}],\"contour\":[{\"colorbar\":{\"outlinewidth\":0,\"ticks\":\"\"},\"colorscale\":[[0.0,\"#0d0887\"],[0.1111111111111111,\"#46039f\"],[0.2222222222222222,\"#7201a8\"],[0.3333333333333333,\"#9c179e\"],[0.4444444444444444,\"#bd3786\"],[0.5555555555555556,\"#d8576b\"],[0.6666666666666666,\"#ed7953\"],[0.7777777777777778,\"#fb9f3a\"],[0.8888888888888888,\"#fdca26\"],[1.0,\"#f0f921\"]],\"type\":\"contour\"}],\"contourcarpet\":[{\"colorbar\":{\"outlinewidth\":0,\"ticks\":\"\"},\"type\":\"contourcarpet\"}],\"heatmap\":[{\"colorbar\":{\"outlinewidth\":0,\"ticks\":\"\"},\"colorscale\":[[0.0,\"#0d0887\"],[0.1111111111111111,\"#46039f\"],[0.2222222222222222,\"#7201a8\"],[0.3333333333333333,\"#9c179e\"],[0.4444444444444444,\"#bd3786\"],[0.5555555555555556,\"#d8576b\"],[0.6666666666666666,\"#ed7953\"],[0.7777777777777778,\"#fb9f3a\"],[0.8888888888888888,\"#fdca26\"],[1.0,\"#f0f921\"]],\"type\":\"heatmap\"}],\"heatmapgl\":[{\"colorbar\":{\"outlinewidth\":0,\"ticks\":\"\"},\"colorscale\":[[0.0,\"#0d0887\"],[0.1111111111111111,\"#46039f\"],[0.2222222222222222,\"#7201a8\"],[0.3333333333333333,\"#9c179e\"],[0.4444444444444444,\"#bd3786\"],[0.5555555555555556,\"#d8576b\"],[0.6666666666666666,\"#ed7953\"],[0.7777777777777778,\"#fb9f3a\"],[0.8888888888888888,\"#fdca26\"],[1.0,\"#f0f921\"]],\"type\":\"heatmapgl\"}],\"histogram\":[{\"marker\":{\"pattern\":{\"fillmode\":\"overlay\",\"size\":10,\"solidity\":0.2}},\"type\":\"histogram\"}],\"histogram2d\":[{\"colorbar\":{\"outlinewidth\":0,\"ticks\":\"\"},\"colorscale\":[[0.0,\"#0d0887\"],[0.1111111111111111,\"#46039f\"],[0.2222222222222222,\"#7201a8\"],[0.3333333333333333,\"#9c179e\"],[0.4444444444444444,\"#bd3786\"],[0.5555555555555556,\"#d8576b\"],[0.6666666666666666,\"#ed7953\"],[0.7777777777777778,\"#fb9f3a\"],[0.8888888888888888,\"#fdca26\"],[1.0,\"#f0f921\"]],\"type\":\"histogram2d\"}],\"histogram2dcontour\":[{\"colorbar\":{\"outlinewidth\":0,\"ticks\":\"\"},\"colorscale\":[[0.0,\"#0d0887\"],[0.1111111111111111,\"#46039f\"],[0.2222222222222222,\"#7201a8\"],[0.3333333333333333,\"#9c179e\"],[0.4444444444444444,\"#bd3786\"],[0.5555555555555556,\"#d8576b\"],[0.6666666666666666,\"#ed7953\"],[0.7777777777777778,\"#fb9f3a\"],[0.8888888888888888,\"#fdca26\"],[1.0,\"#f0f921\"]],\"type\":\"histogram2dcontour\"}],\"mesh3d\":[{\"colorbar\":{\"outlinewidth\":0,\"ticks\":\"\"},\"type\":\"mesh3d\"}],\"parcoords\":[{\"line\":{\"colorbar\":{\"outlinewidth\":0,\"ticks\":\"\"}},\"type\":\"parcoords\"}],\"pie\":[{\"automargin\":true,\"type\":\"pie\"}],\"scatter\":[{\"marker\":{\"colorbar\":{\"outlinewidth\":0,\"ticks\":\"\"}},\"type\":\"scatter\"}],\"scatter3d\":[{\"line\":{\"colorbar\":{\"outlinewidth\":0,\"ticks\":\"\"}},\"marker\":{\"colorbar\":{\"outlinewidth\":0,\"ticks\":\"\"}},\"type\":\"scatter3d\"}],\"scattercarpet\":[{\"marker\":{\"colorbar\":{\"outlinewidth\":0,\"ticks\":\"\"}},\"type\":\"scattercarpet\"}],\"scattergeo\":[{\"marker\":{\"colorbar\":{\"outlinewidth\":0,\"ticks\":\"\"}},\"type\":\"scattergeo\"}],\"scattergl\":[{\"marker\":{\"colorbar\":{\"outlinewidth\":0,\"ticks\":\"\"}},\"type\":\"scattergl\"}],\"scattermapbox\":[{\"marker\":{\"colorbar\":{\"outlinewidth\":0,\"ticks\":\"\"}},\"type\":\"scattermapbox\"}],\"scatterpolar\":[{\"marker\":{\"colorbar\":{\"outlinewidth\":0,\"ticks\":\"\"}},\"type\":\"scatterpolar\"}],\"scatterpolargl\":[{\"marker\":{\"colorbar\":{\"outlinewidth\":0,\"ticks\":\"\"}},\"type\":\"scatterpolargl\"}],\"scatterternary\":[{\"marker\":{\"colorbar\":{\"outlinewidth\":0,\"ticks\":\"\"}},\"type\":\"scatterternary\"}],\"surface\":[{\"colorbar\":{\"outlinewidth\":0,\"ticks\":\"\"},\"colorscale\":[[0.0,\"#0d0887\"],[0.1111111111111111,\"#46039f\"],[0.2222222222222222,\"#7201a8\"],[0.3333333333333333,\"#9c179e\"],[0.4444444444444444,\"#bd3786\"],[0.5555555555555556,\"#d8576b\"],[0.6666666666666666,\"#ed7953\"],[0.7777777777777778,\"#fb9f3a\"],[0.8888888888888888,\"#fdca26\"],[1.0,\"#f0f921\"]],\"type\":\"surface\"}],\"table\":[{\"cells\":{\"fill\":{\"color\":\"#EBF0F8\"},\"line\":{\"color\":\"white\"}},\"header\":{\"fill\":{\"color\":\"#C8D4E3\"},\"line\":{\"color\":\"white\"}},\"type\":\"table\"}]},\"layout\":{\"annotationdefaults\":{\"arrowcolor\":\"#2a3f5f\",\"arrowhead\":0,\"arrowwidth\":1},\"autotypenumbers\":\"strict\",\"coloraxis\":{\"colorbar\":{\"outlinewidth\":0,\"ticks\":\"\"}},\"colorscale\":{\"diverging\":[[0,\"#8e0152\"],[0.1,\"#c51b7d\"],[0.2,\"#de77ae\"],[0.3,\"#f1b6da\"],[0.4,\"#fde0ef\"],[0.5,\"#f7f7f7\"],[0.6,\"#e6f5d0\"],[0.7,\"#b8e186\"],[0.8,\"#7fbc41\"],[0.9,\"#4d9221\"],[1,\"#276419\"]],\"sequential\":[[0.0,\"#0d0887\"],[0.1111111111111111,\"#46039f\"],[0.2222222222222222,\"#7201a8\"],[0.3333333333333333,\"#9c179e\"],[0.4444444444444444,\"#bd3786\"],[0.5555555555555556,\"#d8576b\"],[0.6666666666666666,\"#ed7953\"],[0.7777777777777778,\"#fb9f3a\"],[0.8888888888888888,\"#fdca26\"],[1.0,\"#f0f921\"]],\"sequentialminus\":[[0.0,\"#0d0887\"],[0.1111111111111111,\"#46039f\"],[0.2222222222222222,\"#7201a8\"],[0.3333333333333333,\"#9c179e\"],[0.4444444444444444,\"#bd3786\"],[0.5555555555555556,\"#d8576b\"],[0.6666666666666666,\"#ed7953\"],[0.7777777777777778,\"#fb9f3a\"],[0.8888888888888888,\"#fdca26\"],[1.0,\"#f0f921\"]]},\"colorway\":[\"#636efa\",\"#EF553B\",\"#00cc96\",\"#ab63fa\",\"#FFA15A\",\"#19d3f3\",\"#FF6692\",\"#B6E880\",\"#FF97FF\",\"#FECB52\"],\"font\":{\"color\":\"#2a3f5f\"},\"geo\":{\"bgcolor\":\"white\",\"lakecolor\":\"white\",\"landcolor\":\"#E5ECF6\",\"showlakes\":true,\"showland\":true,\"subunitcolor\":\"white\"},\"hoverlabel\":{\"align\":\"left\"},\"hovermode\":\"closest\",\"mapbox\":{\"style\":\"light\"},\"paper_bgcolor\":\"white\",\"plot_bgcolor\":\"#E5ECF6\",\"polar\":{\"angularaxis\":{\"gridcolor\":\"white\",\"linecolor\":\"white\",\"ticks\":\"\"},\"bgcolor\":\"#E5ECF6\",\"radialaxis\":{\"gridcolor\":\"white\",\"linecolor\":\"white\",\"ticks\":\"\"}},\"scene\":{\"xaxis\":{\"backgroundcolor\":\"#E5ECF6\",\"gridcolor\":\"white\",\"gridwidth\":2,\"linecolor\":\"white\",\"showbackground\":true,\"ticks\":\"\",\"zerolinecolor\":\"white\"},\"yaxis\":{\"backgroundcolor\":\"#E5ECF6\",\"gridcolor\":\"white\",\"gridwidth\":2,\"linecolor\":\"white\",\"showbackground\":true,\"ticks\":\"\",\"zerolinecolor\":\"white\"},\"zaxis\":{\"backgroundcolor\":\"#E5ECF6\",\"gridcolor\":\"white\",\"gridwidth\":2,\"linecolor\":\"white\",\"showbackground\":true,\"ticks\":\"\",\"zerolinecolor\":\"white\"}},\"shapedefaults\":{\"line\":{\"color\":\"#2a3f5f\"}},\"ternary\":{\"aaxis\":{\"gridcolor\":\"white\",\"linecolor\":\"white\",\"ticks\":\"\"},\"baxis\":{\"gridcolor\":\"white\",\"linecolor\":\"white\",\"ticks\":\"\"},\"bgcolor\":\"#E5ECF6\",\"caxis\":{\"gridcolor\":\"white\",\"linecolor\":\"white\",\"ticks\":\"\"}},\"title\":{\"x\":0.05},\"xaxis\":{\"automargin\":true,\"gridcolor\":\"white\",\"linecolor\":\"white\",\"ticks\":\"\",\"title\":{\"standoff\":15},\"zerolinecolor\":\"white\",\"zerolinewidth\":2},\"yaxis\":{\"automargin\":true,\"gridcolor\":\"white\",\"linecolor\":\"white\",\"ticks\":\"\",\"title\":{\"standoff\":15},\"zerolinecolor\":\"white\",\"zerolinewidth\":2}}}},                        {\"responsive\": true}                    ).then(function(){\n",
       "                            \n",
       "var gd = document.getElementById('7bc00842-0a96-45e1-87c0-43ecb7b63246');\n",
       "var x = new MutationObserver(function (mutations, observer) {{\n",
       "        var display = window.getComputedStyle(gd).display;\n",
       "        if (!display || display === 'none') {{\n",
       "            console.log([gd, 'removed!']);\n",
       "            Plotly.purge(gd);\n",
       "            observer.disconnect();\n",
       "        }}\n",
       "}});\n",
       "\n",
       "// Listen for the removal of the full notebook cells\n",
       "var notebookContainer = gd.closest('#notebook-container');\n",
       "if (notebookContainer) {{\n",
       "    x.observe(notebookContainer, {childList: true});\n",
       "}}\n",
       "\n",
       "// Listen for the clearing of the current output cell\n",
       "var outputEl = gd.closest('.output');\n",
       "if (outputEl) {{\n",
       "    x.observe(outputEl, {childList: true});\n",
       "}}\n",
       "\n",
       "                        })                };                });            </script>        </div>"
      ]
     },
     "metadata": {},
     "output_type": "display_data"
    }
   ],
   "source": [
    "chromap = go.Figure(data = [data], layout=layout)\n",
    "iplot(chromap, validate=False)"
   ]
  },
  {
   "cell_type": "code",
   "execution_count": 9,
   "id": "dc2ffb94",
   "metadata": {},
   "outputs": [],
   "source": [
    "#pip install requests"
   ]
  },
  {
   "cell_type": "code",
   "execution_count": 18,
   "id": "5806434f",
   "metadata": {},
   "outputs": [],
   "source": [
    "df=pd.read_clipboard(header=None)"
   ]
  },
  {
   "cell_type": "code",
   "execution_count": 19,
   "id": "0b7ed263",
   "metadata": {},
   "outputs": [
    {
     "data": {
      "text/html": [
       "<div>\n",
       "<style scoped>\n",
       "    .dataframe tbody tr th:only-of-type {\n",
       "        vertical-align: middle;\n",
       "    }\n",
       "\n",
       "    .dataframe tbody tr th {\n",
       "        vertical-align: top;\n",
       "    }\n",
       "\n",
       "    .dataframe thead th {\n",
       "        text-align: right;\n",
       "    }\n",
       "</style>\n",
       "<table border=\"1\" class=\"dataframe\">\n",
       "  <thead>\n",
       "    <tr style=\"text-align: right;\">\n",
       "      <th></th>\n",
       "      <th>0</th>\n",
       "      <th>1</th>\n",
       "    </tr>\n",
       "  </thead>\n",
       "  <tbody>\n",
       "    <tr>\n",
       "      <th>0</th>\n",
       "      <td>CHINA</td>\n",
       "      <td>4,088,976</td>\n",
       "    </tr>\n",
       "    <tr>\n",
       "      <th>1</th>\n",
       "      <td>UNITED STATES</td>\n",
       "      <td>3,104,352</td>\n",
       "    </tr>\n",
       "    <tr>\n",
       "      <th>2</th>\n",
       "      <td>PHILIPPINES</td>\n",
       "      <td>2,273,037</td>\n",
       "    </tr>\n",
       "    <tr>\n",
       "      <th>3</th>\n",
       "      <td>UNITED KINGDOM</td>\n",
       "      <td>1,212,472</td>\n",
       "    </tr>\n",
       "    <tr>\n",
       "      <th>4</th>\n",
       "      <td>BRAZIL</td>\n",
       "      <td>1,022,743</td>\n",
       "    </tr>\n",
       "    <tr>\n",
       "      <th>...</th>\n",
       "      <td>...</td>\n",
       "      <td>...</td>\n",
       "    </tr>\n",
       "    <tr>\n",
       "      <th>249</th>\n",
       "      <td>NIUE</td>\n",
       "      <td>107</td>\n",
       "    </tr>\n",
       "    <tr>\n",
       "      <th>250</th>\n",
       "      <td>TOKELAU</td>\n",
       "      <td>105</td>\n",
       "    </tr>\n",
       "    <tr>\n",
       "      <th>251</th>\n",
       "      <td>ST. BARTHÉLEMY</td>\n",
       "      <td>102</td>\n",
       "    </tr>\n",
       "    <tr>\n",
       "      <th>252</th>\n",
       "      <td>TRISTAN DA CUNHA</td>\n",
       "      <td>80</td>\n",
       "    </tr>\n",
       "    <tr>\n",
       "      <th>253</th>\n",
       "      <td>PSEUDO-BIDI</td>\n",
       "      <td>1</td>\n",
       "    </tr>\n",
       "  </tbody>\n",
       "</table>\n",
       "<p>254 rows × 2 columns</p>\n",
       "</div>"
      ],
      "text/plain": [
       "                    0          1\n",
       "0               CHINA  4,088,976\n",
       "1       UNITED STATES  3,104,352\n",
       "2         PHILIPPINES  2,273,037\n",
       "3      UNITED KINGDOM  1,212,472\n",
       "4              BRAZIL  1,022,743\n",
       "..                ...        ...\n",
       "249              NIUE        107\n",
       "250           TOKELAU        105\n",
       "251    ST. BARTHÉLEMY        102\n",
       "252  TRISTAN DA CUNHA         80\n",
       "253       PSEUDO-BIDI          1\n",
       "\n",
       "[254 rows x 2 columns]"
      ]
     },
     "execution_count": 19,
     "metadata": {},
     "output_type": "execute_result"
    }
   ],
   "source": [
    "df"
   ]
  },
  {
   "cell_type": "code",
   "execution_count": 20,
   "id": "d8a0ba7c",
   "metadata": {},
   "outputs": [],
   "source": [
    "df.columns=[\"ulke\",\"kisi\"]"
   ]
  },
  {
   "cell_type": "code",
   "execution_count": 22,
   "id": "fa685a44",
   "metadata": {},
   "outputs": [],
   "source": [
    "df[\"kisi\"]=df[\"kisi\"].str.replace(\",\",\"\")"
   ]
  },
  {
   "cell_type": "code",
   "execution_count": 23,
   "id": "cab30b17",
   "metadata": {},
   "outputs": [
    {
     "data": {
      "text/html": [
       "<div>\n",
       "<style scoped>\n",
       "    .dataframe tbody tr th:only-of-type {\n",
       "        vertical-align: middle;\n",
       "    }\n",
       "\n",
       "    .dataframe tbody tr th {\n",
       "        vertical-align: top;\n",
       "    }\n",
       "\n",
       "    .dataframe thead th {\n",
       "        text-align: right;\n",
       "    }\n",
       "</style>\n",
       "<table border=\"1\" class=\"dataframe\">\n",
       "  <thead>\n",
       "    <tr style=\"text-align: right;\">\n",
       "      <th></th>\n",
       "      <th>ulke</th>\n",
       "      <th>kisi</th>\n",
       "    </tr>\n",
       "  </thead>\n",
       "  <tbody>\n",
       "    <tr>\n",
       "      <th>0</th>\n",
       "      <td>CHINA</td>\n",
       "      <td>4088976</td>\n",
       "    </tr>\n",
       "    <tr>\n",
       "      <th>1</th>\n",
       "      <td>UNITED STATES</td>\n",
       "      <td>3104352</td>\n",
       "    </tr>\n",
       "    <tr>\n",
       "      <th>2</th>\n",
       "      <td>PHILIPPINES</td>\n",
       "      <td>2273037</td>\n",
       "    </tr>\n",
       "    <tr>\n",
       "      <th>3</th>\n",
       "      <td>UNITED KINGDOM</td>\n",
       "      <td>1212472</td>\n",
       "    </tr>\n",
       "    <tr>\n",
       "      <th>4</th>\n",
       "      <td>BRAZIL</td>\n",
       "      <td>1022743</td>\n",
       "    </tr>\n",
       "  </tbody>\n",
       "</table>\n",
       "</div>"
      ],
      "text/plain": [
       "             ulke     kisi\n",
       "0           CHINA  4088976\n",
       "1   UNITED STATES  3104352\n",
       "2     PHILIPPINES  2273037\n",
       "3  UNITED KINGDOM  1212472\n",
       "4          BRAZIL  1022743"
      ]
     },
     "execution_count": 23,
     "metadata": {},
     "output_type": "execute_result"
    }
   ],
   "source": [
    "df.head()"
   ]
  },
  {
   "cell_type": "code",
   "execution_count": 30,
   "id": "d5c1157a",
   "metadata": {},
   "outputs": [],
   "source": [
    "data = dict( \n",
    "    type = 'choropleth', \n",
    "    colorscale = 'Viridis', \n",
    "    reversescale = True, \n",
    "    locations = df['ulke'], \n",
    "    locationmode = \"country names\", \n",
    "    z = df['kisi'], \n",
    "    text = df['ulke'], \n",
    "    colorbar = {\"title\":'Mars a gidecek isimler'})\n",
    "\n",
    "\n",
    "layout = dict(title = 'Mars a gidecek isimler', \n",
    "              geo = dict(showframe = False,projection = {'type':'mercator'}) )"
   ]
  },
  {
   "cell_type": "code",
   "execution_count": 31,
   "id": "1e2b441b",
   "metadata": {},
   "outputs": [
    {
     "data": {
      "application/vnd.plotly.v1+json": {
       "config": {
        "linkText": "Export to plot.ly",
        "plotlyServerURL": "https://plot.ly",
        "showLink": false
       },
       "data": [
        {
         "colorbar": {
          "title": {
           "text": "Mars a gidecek isimler"
          }
         },
         "colorscale": [
          [
           0,
           "#440154"
          ],
          [
           0.1111111111111111,
           "#482878"
          ],
          [
           0.2222222222222222,
           "#3e4989"
          ],
          [
           0.3333333333333333,
           "#31688e"
          ],
          [
           0.4444444444444444,
           "#26828e"
          ],
          [
           0.5555555555555556,
           "#1f9e89"
          ],
          [
           0.6666666666666666,
           "#35b779"
          ],
          [
           0.7777777777777778,
           "#6ece58"
          ],
          [
           0.8888888888888888,
           "#b5de2b"
          ],
          [
           1,
           "#fde725"
          ]
         ],
         "locationmode": "country names",
         "locations": [
          "CHINA",
          "UNITED STATES",
          "PHILIPPINES",
          "UNITED KINGDOM",
          "BRAZIL",
          "RUSSIA",
          "ITALY",
          "MEXICO",
          "INDIA",
          "FRANCE",
          "INDONESIA",
          "CANADA",
          "SPAIN",
          "UKRAINE",
          "GERMANY",
          "MALAYSIA",
          "SOUTH KOREA",
          "AUSTRALIA",
          "KAZAKHSTAN",
          "PERU",
          "POLAND",
          "COLOMBIA",
          "TURKEY",
          "ARGENTINA",
          "CHILE",
          "CZECHIA",
          "VIETNAM",
          "ECUADOR",
          "IRAN",
          "IRELAND",
          "TAIWAN",
          "PORTUGAL",
          "SWEDEN",
          "BELARUS",
          "ROMANIA",
          "HONG KONG SAR CHINA",
          "THAILAND",
          "BELGIUM",
          "GREECE",
          "BANGLADESH",
          "NETHERLANDS",
          "ARMENIA",
          "AFGHANISTAN",
          "SOUTH AFRICA",
          "EGYPT",
          "HUNGARY",
          "ALBANIA",
          "ALGERIA",
          "SAUDI ARABIA",
          "AUSTRIA",
          "COSTA RICA",
          "UNITED ARAB EMIRATES",
          "UZBEKISTAN",
          "NEW ZEALAND",
          "SWITZERLAND",
          "JAPAN",
          "ISRAEL",
          "SLOVAKIA",
          "BOLIVIA",
          "AZERBAIJAN",
          "SINGAPORE",
          "SERBIA",
          "GUATEMALA",
          "CROATIA",
          "VENEZUELA",
          "AMERICAN SAMOA",
          "NORWAY",
          "MOROCCO",
          "DENMARK",
          "IRAQ",
          "KYRGYZSTAN",
          "ANDORRA",
          "BULGARIA",
          "PAKISTAN",
          "MOLDOVA",
          "FINLAND",
          "EL SALVADOR",
          "LITHUANIA",
          "GEORGIA",
          "PUERTO RICO",
          "BOSNIA & HERZEGOVINA",
          "LEBANON",
          "HONDURAS",
          "LATVIA",
          "PANAMA",
          "DOMINICAN REPUBLIC",
          "JORDAN",
          "NEPAL",
          "SRI LANKA",
          "ANGOLA",
          "URUGUAY",
          "TUNISIA",
          "PARAGUAY",
          "ESTONIA",
          "TRINIDAD & TOBAGO",
          "ANTARCTICA",
          "ANGUILLA",
          "SLOVENIA",
          "MYANMAR (BURMA)",
          "NICARAGUA",
          "KUWAIT",
          "NORTH MACEDONIA",
          "CYPRUS",
          "BAHRAIN",
          "NORTH KOREA",
          "ARUBA",
          "BAHAMAS",
          "KOSOVO",
          "CANARY ISLANDS",
          "SYRIA",
          "QATAR",
          "ASCENSION ISLAND",
          "MACAO SAR CHINA",
          "ANTIGUA & BARBUDA",
          "MALDIVES",
          "MALTA",
          "NIGERIA",
          "CAMBODIA",
          "OMAN",
          "PALESTINIAN TERRITORIES",
          "BRUNEI",
          "GUYANA",
          "MONTENEGRO",
          "KENYA",
          "MAURITIUS",
          "LUXEMBOURG",
          "ZIMBABWE",
          "CUBA",
          "CHRISTMAS ISLAND",
          "RÉUNION",
          "ICELAND",
          "BELIZE",
          "MONGOLIA",
          "YEMEN",
          "LIBYA",
          "JAMAICA",
          "SUDAN",
          "BRITISH VIRGIN ISLANDS",
          "GHANA",
          "TAJIKISTAN",
          "BARBADOS",
          "BHUTAN",
          "ETHIOPIA",
          "TURKMENISTAN",
          "BERMUDA",
          "GUAM",
          "FIJI",
          "FRENCH POLYNESIA",
          "BRITISH INDIAN OCEAN TERRITORY",
          "BOTSWANA",
          "JERSEY",
          "MADAGASCAR",
          "CHAD",
          "ISLE OF MAN",
          "TANZANIA",
          "BENIN",
          "ZAMBIA",
          "SURINAME",
          "CARIBBEAN NETHERLANDS",
          "NIGER",
          "CAMEROON",
          "CAPE VERDE",
          "CEUTA & MELILLA",
          "UGANDA",
          "GUADELOUPE",
          "CAYMAN ISLANDS",
          "CÔTE D’IVOIRE",
          "MONACO",
          "FRENCH GUIANA",
          "BURUNDI",
          "GIBRALTAR",
          "DOMINICA",
          "CENTRAL AFRICAN REPUBLIC",
          "MARTINIQUE",
          "GUERNSEY",
          "FRENCH SOUTHERN TERRITORIES",
          "NEW CALEDONIA",
          "BURKINA FASO",
          "CURAÇAO",
          "SENEGAL",
          "MOZAMBIQUE",
          "LAOS",
          "U.S. VIRGIN ISLANDS",
          "NAMIBIA",
          "NORTHERN MARIANA ISLANDS",
          "COCOS (KEELING) ISLANDS",
          "GREENLAND",
          "VATICAN CITY",
          "CONGO - KINSHASA",
          "SOMALIA",
          "HAITI",
          "RWANDA",
          "COMOROS",
          "COOK ISLANDS",
          "CONGO - BRAZZAVILLE",
          "MALI",
          "MARSHALL ISLANDS",
          "SOUTH SUDAN",
          "MALAWI",
          "SAN MARINO",
          "EQUATORIAL GUINEA",
          "GABON",
          "PITCAIRN ISLANDS",
          "GRENADA",
          "ERITREA",
          "DJIBOUTI",
          "FAROE ISLANDS",
          "ESWATINI",
          "MAURITANIA",
          "SAMOA",
          "DIEGO GARCIA",
          "LIECHTENSTEIN",
          "U.S. OUTLYING ISLANDS",
          "MAYOTTE",
          "TURKS & CAICOS ISLANDS",
          "WALLIS & FUTUNA",
          "PAPUA NEW GUINEA",
          "TOGO",
          "VANUATU",
          "SINT MAARTEN",
          "MICRONESIA",
          "GUINEA",
          "ST. MARTIN",
          "GAMBIA",
          "PALAU",
          "LIBERIA",
          "ST. LUCIA",
          "FALKLAND ISLANDS",
          "WESTERN SAHARA",
          "SEYCHELLES",
          "SOUTH GEORGIA & SOUTH SANDWICH ISLANDS",
          "MONTSERRAT",
          "SIERRA LEONE",
          "TIMOR-LESTE",
          "ÅLAND ISLANDS",
          "ST. VINCENT & GRENADINES",
          "TONGA",
          "ST. KITTS & NEVIS",
          "LESOTHO",
          "SÃO TOMÉ & PRÍNCIPE",
          "ST. PIERRE & MIQUELON",
          "GUINEA-BISSAU",
          "TUVALU",
          "NORFOLK ISLAND",
          "KIRIBATI",
          "SOLOMON ISLANDS",
          "ST. HELENA",
          "NAURU",
          "SVALBARD & JAN MAYEN",
          "NIUE",
          "TOKELAU",
          "ST. BARTHÉLEMY",
          "TRISTAN DA CUNHA",
          "PSEUDO-BIDI"
         ],
         "reversescale": true,
         "text": [
          "CHINA",
          "UNITED STATES",
          "PHILIPPINES",
          "UNITED KINGDOM",
          "BRAZIL",
          "RUSSIA",
          "ITALY",
          "MEXICO",
          "INDIA",
          "FRANCE",
          "INDONESIA",
          "CANADA",
          "SPAIN",
          "UKRAINE",
          "GERMANY",
          "MALAYSIA",
          "SOUTH KOREA",
          "AUSTRALIA",
          "KAZAKHSTAN",
          "PERU",
          "POLAND",
          "COLOMBIA",
          "TURKEY",
          "ARGENTINA",
          "CHILE",
          "CZECHIA",
          "VIETNAM",
          "ECUADOR",
          "IRAN",
          "IRELAND",
          "TAIWAN",
          "PORTUGAL",
          "SWEDEN",
          "BELARUS",
          "ROMANIA",
          "HONG KONG SAR CHINA",
          "THAILAND",
          "BELGIUM",
          "GREECE",
          "BANGLADESH",
          "NETHERLANDS",
          "ARMENIA",
          "AFGHANISTAN",
          "SOUTH AFRICA",
          "EGYPT",
          "HUNGARY",
          "ALBANIA",
          "ALGERIA",
          "SAUDI ARABIA",
          "AUSTRIA",
          "COSTA RICA",
          "UNITED ARAB EMIRATES",
          "UZBEKISTAN",
          "NEW ZEALAND",
          "SWITZERLAND",
          "JAPAN",
          "ISRAEL",
          "SLOVAKIA",
          "BOLIVIA",
          "AZERBAIJAN",
          "SINGAPORE",
          "SERBIA",
          "GUATEMALA",
          "CROATIA",
          "VENEZUELA",
          "AMERICAN SAMOA",
          "NORWAY",
          "MOROCCO",
          "DENMARK",
          "IRAQ",
          "KYRGYZSTAN",
          "ANDORRA",
          "BULGARIA",
          "PAKISTAN",
          "MOLDOVA",
          "FINLAND",
          "EL SALVADOR",
          "LITHUANIA",
          "GEORGIA",
          "PUERTO RICO",
          "BOSNIA & HERZEGOVINA",
          "LEBANON",
          "HONDURAS",
          "LATVIA",
          "PANAMA",
          "DOMINICAN REPUBLIC",
          "JORDAN",
          "NEPAL",
          "SRI LANKA",
          "ANGOLA",
          "URUGUAY",
          "TUNISIA",
          "PARAGUAY",
          "ESTONIA",
          "TRINIDAD & TOBAGO",
          "ANTARCTICA",
          "ANGUILLA",
          "SLOVENIA",
          "MYANMAR (BURMA)",
          "NICARAGUA",
          "KUWAIT",
          "NORTH MACEDONIA",
          "CYPRUS",
          "BAHRAIN",
          "NORTH KOREA",
          "ARUBA",
          "BAHAMAS",
          "KOSOVO",
          "CANARY ISLANDS",
          "SYRIA",
          "QATAR",
          "ASCENSION ISLAND",
          "MACAO SAR CHINA",
          "ANTIGUA & BARBUDA",
          "MALDIVES",
          "MALTA",
          "NIGERIA",
          "CAMBODIA",
          "OMAN",
          "PALESTINIAN TERRITORIES",
          "BRUNEI",
          "GUYANA",
          "MONTENEGRO",
          "KENYA",
          "MAURITIUS",
          "LUXEMBOURG",
          "ZIMBABWE",
          "CUBA",
          "CHRISTMAS ISLAND",
          "RÉUNION",
          "ICELAND",
          "BELIZE",
          "MONGOLIA",
          "YEMEN",
          "LIBYA",
          "JAMAICA",
          "SUDAN",
          "BRITISH VIRGIN ISLANDS",
          "GHANA",
          "TAJIKISTAN",
          "BARBADOS",
          "BHUTAN",
          "ETHIOPIA",
          "TURKMENISTAN",
          "BERMUDA",
          "GUAM",
          "FIJI",
          "FRENCH POLYNESIA",
          "BRITISH INDIAN OCEAN TERRITORY",
          "BOTSWANA",
          "JERSEY",
          "MADAGASCAR",
          "CHAD",
          "ISLE OF MAN",
          "TANZANIA",
          "BENIN",
          "ZAMBIA",
          "SURINAME",
          "CARIBBEAN NETHERLANDS",
          "NIGER",
          "CAMEROON",
          "CAPE VERDE",
          "CEUTA & MELILLA",
          "UGANDA",
          "GUADELOUPE",
          "CAYMAN ISLANDS",
          "CÔTE D’IVOIRE",
          "MONACO",
          "FRENCH GUIANA",
          "BURUNDI",
          "GIBRALTAR",
          "DOMINICA",
          "CENTRAL AFRICAN REPUBLIC",
          "MARTINIQUE",
          "GUERNSEY",
          "FRENCH SOUTHERN TERRITORIES",
          "NEW CALEDONIA",
          "BURKINA FASO",
          "CURAÇAO",
          "SENEGAL",
          "MOZAMBIQUE",
          "LAOS",
          "U.S. VIRGIN ISLANDS",
          "NAMIBIA",
          "NORTHERN MARIANA ISLANDS",
          "COCOS (KEELING) ISLANDS",
          "GREENLAND",
          "VATICAN CITY",
          "CONGO - KINSHASA",
          "SOMALIA",
          "HAITI",
          "RWANDA",
          "COMOROS",
          "COOK ISLANDS",
          "CONGO - BRAZZAVILLE",
          "MALI",
          "MARSHALL ISLANDS",
          "SOUTH SUDAN",
          "MALAWI",
          "SAN MARINO",
          "EQUATORIAL GUINEA",
          "GABON",
          "PITCAIRN ISLANDS",
          "GRENADA",
          "ERITREA",
          "DJIBOUTI",
          "FAROE ISLANDS",
          "ESWATINI",
          "MAURITANIA",
          "SAMOA",
          "DIEGO GARCIA",
          "LIECHTENSTEIN",
          "U.S. OUTLYING ISLANDS",
          "MAYOTTE",
          "TURKS & CAICOS ISLANDS",
          "WALLIS & FUTUNA",
          "PAPUA NEW GUINEA",
          "TOGO",
          "VANUATU",
          "SINT MAARTEN",
          "MICRONESIA",
          "GUINEA",
          "ST. MARTIN",
          "GAMBIA",
          "PALAU",
          "LIBERIA",
          "ST. LUCIA",
          "FALKLAND ISLANDS",
          "WESTERN SAHARA",
          "SEYCHELLES",
          "SOUTH GEORGIA & SOUTH SANDWICH ISLANDS",
          "MONTSERRAT",
          "SIERRA LEONE",
          "TIMOR-LESTE",
          "ÅLAND ISLANDS",
          "ST. VINCENT & GRENADINES",
          "TONGA",
          "ST. KITTS & NEVIS",
          "LESOTHO",
          "SÃO TOMÉ & PRÍNCIPE",
          "ST. PIERRE & MIQUELON",
          "GUINEA-BISSAU",
          "TUVALU",
          "NORFOLK ISLAND",
          "KIRIBATI",
          "SOLOMON ISLANDS",
          "ST. HELENA",
          "NAURU",
          "SVALBARD & JAN MAYEN",
          "NIUE",
          "TOKELAU",
          "ST. BARTHÉLEMY",
          "TRISTAN DA CUNHA",
          "PSEUDO-BIDI"
         ],
         "type": "choropleth",
         "z": [
          "4088976",
          "3104352",
          "2273037",
          "1212472",
          "1022743",
          "943039",
          "789282",
          "696440",
          "492043",
          "480756",
          "396407",
          "303724",
          "303198",
          "302646",
          "282129",
          "270391",
          "266348",
          "246176",
          "214411",
          "198108",
          "189486",
          "180935",
          "177322",
          "166000",
          "152837",
          "107351",
          "103001",
          "102477",
          "90140",
          "89472",
          "86135",
          "82064",
          "81462",
          "76427",
          "75568",
          "71987",
          "70341",
          "69042",
          "58363",
          "57374",
          "56966",
          "56595",
          "55024",
          "54971",
          "53640",
          "50700",
          "46934",
          "45551",
          "45538",
          "45127",
          "44610",
          "41687",
          "41058",
          "39412",
          "39335",
          "38473",
          "36449",
          "36170",
          "34411",
          "34321",
          "33739",
          "33441",
          "32384",
          "31230",
          "30399",
          "29682",
          "28644",
          "28302",
          "27729",
          "25779",
          "25404",
          "24792",
          "24490",
          "22196",
          "21799",
          "21684",
          "20475",
          "20251",
          "19866",
          "19847",
          "19575",
          "19533",
          "18852",
          "17567",
          "17225",
          "16322",
          "15932",
          "15424",
          "15050",
          "14729",
          "13975",
          "13922",
          "13443",
          "12142",
          "11700",
          "9820",
          "9602",
          "9402",
          "9079",
          "8697",
          "8438",
          "8020",
          "8000",
          "7908",
          "7416",
          "7344",
          "7333",
          "7308",
          "7040",
          "6752",
          "6454",
          "6378",
          "6302",
          "5916",
          "5707",
          "5269",
          "5086",
          "5054",
          "4975",
          "4616",
          "4559",
          "4416",
          "4299",
          "4245",
          "3335",
          "3282",
          "3108",
          "3050",
          "3020",
          "2927",
          "2919",
          "2909",
          "2826",
          "2754",
          "2684",
          "2478",
          "2470",
          "2400",
          "2366",
          "1962",
          "1937",
          "1934",
          "1929",
          "1865",
          "1644",
          "1629",
          "1499",
          "1446",
          "1431",
          "1430",
          "1345",
          "1327",
          "1300",
          "1262",
          "1165",
          "1165",
          "1136",
          "1108",
          "1091",
          "1088",
          "1067",
          "1059",
          "1047",
          "1046",
          "1046",
          "1024",
          "972",
          "960",
          "955",
          "900",
          "858",
          "840",
          "832",
          "823",
          "820",
          "818",
          "796",
          "776",
          "709",
          "707",
          "706",
          "705",
          "703",
          "686",
          "662",
          "645",
          "584",
          "583",
          "569",
          "563",
          "528",
          "476",
          "470",
          "466",
          "448",
          "444",
          "437",
          "435",
          "426",
          "424",
          "423",
          "418",
          "413",
          "409",
          "388",
          "379",
          "368",
          "351",
          "351",
          "350",
          "347",
          "343",
          "330",
          "328",
          "327",
          "316",
          "313",
          "304",
          "296",
          "289",
          "285",
          "280",
          "271",
          "269",
          "264",
          "263",
          "252",
          "252",
          "242",
          "206",
          "186",
          "184",
          "183",
          "179",
          "163",
          "162",
          "153",
          "151",
          "148",
          "143",
          "133",
          "133",
          "130",
          "130",
          "127",
          "122",
          "116",
          "109",
          "108",
          "107",
          "105",
          "102",
          "80",
          "1"
         ]
        }
       ],
       "layout": {
        "geo": {
         "projection": {
          "type": "mercator"
         },
         "showframe": false
        },
        "template": {
         "data": {
          "bar": [
           {
            "error_x": {
             "color": "#2a3f5f"
            },
            "error_y": {
             "color": "#2a3f5f"
            },
            "marker": {
             "line": {
              "color": "#E5ECF6",
              "width": 0.5
             },
             "pattern": {
              "fillmode": "overlay",
              "size": 10,
              "solidity": 0.2
             }
            },
            "type": "bar"
           }
          ],
          "barpolar": [
           {
            "marker": {
             "line": {
              "color": "#E5ECF6",
              "width": 0.5
             },
             "pattern": {
              "fillmode": "overlay",
              "size": 10,
              "solidity": 0.2
             }
            },
            "type": "barpolar"
           }
          ],
          "carpet": [
           {
            "aaxis": {
             "endlinecolor": "#2a3f5f",
             "gridcolor": "white",
             "linecolor": "white",
             "minorgridcolor": "white",
             "startlinecolor": "#2a3f5f"
            },
            "baxis": {
             "endlinecolor": "#2a3f5f",
             "gridcolor": "white",
             "linecolor": "white",
             "minorgridcolor": "white",
             "startlinecolor": "#2a3f5f"
            },
            "type": "carpet"
           }
          ],
          "choropleth": [
           {
            "colorbar": {
             "outlinewidth": 0,
             "ticks": ""
            },
            "type": "choropleth"
           }
          ],
          "contour": [
           {
            "colorbar": {
             "outlinewidth": 0,
             "ticks": ""
            },
            "colorscale": [
             [
              0,
              "#0d0887"
             ],
             [
              0.1111111111111111,
              "#46039f"
             ],
             [
              0.2222222222222222,
              "#7201a8"
             ],
             [
              0.3333333333333333,
              "#9c179e"
             ],
             [
              0.4444444444444444,
              "#bd3786"
             ],
             [
              0.5555555555555556,
              "#d8576b"
             ],
             [
              0.6666666666666666,
              "#ed7953"
             ],
             [
              0.7777777777777778,
              "#fb9f3a"
             ],
             [
              0.8888888888888888,
              "#fdca26"
             ],
             [
              1,
              "#f0f921"
             ]
            ],
            "type": "contour"
           }
          ],
          "contourcarpet": [
           {
            "colorbar": {
             "outlinewidth": 0,
             "ticks": ""
            },
            "type": "contourcarpet"
           }
          ],
          "heatmap": [
           {
            "colorbar": {
             "outlinewidth": 0,
             "ticks": ""
            },
            "colorscale": [
             [
              0,
              "#0d0887"
             ],
             [
              0.1111111111111111,
              "#46039f"
             ],
             [
              0.2222222222222222,
              "#7201a8"
             ],
             [
              0.3333333333333333,
              "#9c179e"
             ],
             [
              0.4444444444444444,
              "#bd3786"
             ],
             [
              0.5555555555555556,
              "#d8576b"
             ],
             [
              0.6666666666666666,
              "#ed7953"
             ],
             [
              0.7777777777777778,
              "#fb9f3a"
             ],
             [
              0.8888888888888888,
              "#fdca26"
             ],
             [
              1,
              "#f0f921"
             ]
            ],
            "type": "heatmap"
           }
          ],
          "heatmapgl": [
           {
            "colorbar": {
             "outlinewidth": 0,
             "ticks": ""
            },
            "colorscale": [
             [
              0,
              "#0d0887"
             ],
             [
              0.1111111111111111,
              "#46039f"
             ],
             [
              0.2222222222222222,
              "#7201a8"
             ],
             [
              0.3333333333333333,
              "#9c179e"
             ],
             [
              0.4444444444444444,
              "#bd3786"
             ],
             [
              0.5555555555555556,
              "#d8576b"
             ],
             [
              0.6666666666666666,
              "#ed7953"
             ],
             [
              0.7777777777777778,
              "#fb9f3a"
             ],
             [
              0.8888888888888888,
              "#fdca26"
             ],
             [
              1,
              "#f0f921"
             ]
            ],
            "type": "heatmapgl"
           }
          ],
          "histogram": [
           {
            "marker": {
             "pattern": {
              "fillmode": "overlay",
              "size": 10,
              "solidity": 0.2
             }
            },
            "type": "histogram"
           }
          ],
          "histogram2d": [
           {
            "colorbar": {
             "outlinewidth": 0,
             "ticks": ""
            },
            "colorscale": [
             [
              0,
              "#0d0887"
             ],
             [
              0.1111111111111111,
              "#46039f"
             ],
             [
              0.2222222222222222,
              "#7201a8"
             ],
             [
              0.3333333333333333,
              "#9c179e"
             ],
             [
              0.4444444444444444,
              "#bd3786"
             ],
             [
              0.5555555555555556,
              "#d8576b"
             ],
             [
              0.6666666666666666,
              "#ed7953"
             ],
             [
              0.7777777777777778,
              "#fb9f3a"
             ],
             [
              0.8888888888888888,
              "#fdca26"
             ],
             [
              1,
              "#f0f921"
             ]
            ],
            "type": "histogram2d"
           }
          ],
          "histogram2dcontour": [
           {
            "colorbar": {
             "outlinewidth": 0,
             "ticks": ""
            },
            "colorscale": [
             [
              0,
              "#0d0887"
             ],
             [
              0.1111111111111111,
              "#46039f"
             ],
             [
              0.2222222222222222,
              "#7201a8"
             ],
             [
              0.3333333333333333,
              "#9c179e"
             ],
             [
              0.4444444444444444,
              "#bd3786"
             ],
             [
              0.5555555555555556,
              "#d8576b"
             ],
             [
              0.6666666666666666,
              "#ed7953"
             ],
             [
              0.7777777777777778,
              "#fb9f3a"
             ],
             [
              0.8888888888888888,
              "#fdca26"
             ],
             [
              1,
              "#f0f921"
             ]
            ],
            "type": "histogram2dcontour"
           }
          ],
          "mesh3d": [
           {
            "colorbar": {
             "outlinewidth": 0,
             "ticks": ""
            },
            "type": "mesh3d"
           }
          ],
          "parcoords": [
           {
            "line": {
             "colorbar": {
              "outlinewidth": 0,
              "ticks": ""
             }
            },
            "type": "parcoords"
           }
          ],
          "pie": [
           {
            "automargin": true,
            "type": "pie"
           }
          ],
          "scatter": [
           {
            "marker": {
             "colorbar": {
              "outlinewidth": 0,
              "ticks": ""
             }
            },
            "type": "scatter"
           }
          ],
          "scatter3d": [
           {
            "line": {
             "colorbar": {
              "outlinewidth": 0,
              "ticks": ""
             }
            },
            "marker": {
             "colorbar": {
              "outlinewidth": 0,
              "ticks": ""
             }
            },
            "type": "scatter3d"
           }
          ],
          "scattercarpet": [
           {
            "marker": {
             "colorbar": {
              "outlinewidth": 0,
              "ticks": ""
             }
            },
            "type": "scattercarpet"
           }
          ],
          "scattergeo": [
           {
            "marker": {
             "colorbar": {
              "outlinewidth": 0,
              "ticks": ""
             }
            },
            "type": "scattergeo"
           }
          ],
          "scattergl": [
           {
            "marker": {
             "colorbar": {
              "outlinewidth": 0,
              "ticks": ""
             }
            },
            "type": "scattergl"
           }
          ],
          "scattermapbox": [
           {
            "marker": {
             "colorbar": {
              "outlinewidth": 0,
              "ticks": ""
             }
            },
            "type": "scattermapbox"
           }
          ],
          "scatterpolar": [
           {
            "marker": {
             "colorbar": {
              "outlinewidth": 0,
              "ticks": ""
             }
            },
            "type": "scatterpolar"
           }
          ],
          "scatterpolargl": [
           {
            "marker": {
             "colorbar": {
              "outlinewidth": 0,
              "ticks": ""
             }
            },
            "type": "scatterpolargl"
           }
          ],
          "scatterternary": [
           {
            "marker": {
             "colorbar": {
              "outlinewidth": 0,
              "ticks": ""
             }
            },
            "type": "scatterternary"
           }
          ],
          "surface": [
           {
            "colorbar": {
             "outlinewidth": 0,
             "ticks": ""
            },
            "colorscale": [
             [
              0,
              "#0d0887"
             ],
             [
              0.1111111111111111,
              "#46039f"
             ],
             [
              0.2222222222222222,
              "#7201a8"
             ],
             [
              0.3333333333333333,
              "#9c179e"
             ],
             [
              0.4444444444444444,
              "#bd3786"
             ],
             [
              0.5555555555555556,
              "#d8576b"
             ],
             [
              0.6666666666666666,
              "#ed7953"
             ],
             [
              0.7777777777777778,
              "#fb9f3a"
             ],
             [
              0.8888888888888888,
              "#fdca26"
             ],
             [
              1,
              "#f0f921"
             ]
            ],
            "type": "surface"
           }
          ],
          "table": [
           {
            "cells": {
             "fill": {
              "color": "#EBF0F8"
             },
             "line": {
              "color": "white"
             }
            },
            "header": {
             "fill": {
              "color": "#C8D4E3"
             },
             "line": {
              "color": "white"
             }
            },
            "type": "table"
           }
          ]
         },
         "layout": {
          "annotationdefaults": {
           "arrowcolor": "#2a3f5f",
           "arrowhead": 0,
           "arrowwidth": 1
          },
          "autotypenumbers": "strict",
          "coloraxis": {
           "colorbar": {
            "outlinewidth": 0,
            "ticks": ""
           }
          },
          "colorscale": {
           "diverging": [
            [
             0,
             "#8e0152"
            ],
            [
             0.1,
             "#c51b7d"
            ],
            [
             0.2,
             "#de77ae"
            ],
            [
             0.3,
             "#f1b6da"
            ],
            [
             0.4,
             "#fde0ef"
            ],
            [
             0.5,
             "#f7f7f7"
            ],
            [
             0.6,
             "#e6f5d0"
            ],
            [
             0.7,
             "#b8e186"
            ],
            [
             0.8,
             "#7fbc41"
            ],
            [
             0.9,
             "#4d9221"
            ],
            [
             1,
             "#276419"
            ]
           ],
           "sequential": [
            [
             0,
             "#0d0887"
            ],
            [
             0.1111111111111111,
             "#46039f"
            ],
            [
             0.2222222222222222,
             "#7201a8"
            ],
            [
             0.3333333333333333,
             "#9c179e"
            ],
            [
             0.4444444444444444,
             "#bd3786"
            ],
            [
             0.5555555555555556,
             "#d8576b"
            ],
            [
             0.6666666666666666,
             "#ed7953"
            ],
            [
             0.7777777777777778,
             "#fb9f3a"
            ],
            [
             0.8888888888888888,
             "#fdca26"
            ],
            [
             1,
             "#f0f921"
            ]
           ],
           "sequentialminus": [
            [
             0,
             "#0d0887"
            ],
            [
             0.1111111111111111,
             "#46039f"
            ],
            [
             0.2222222222222222,
             "#7201a8"
            ],
            [
             0.3333333333333333,
             "#9c179e"
            ],
            [
             0.4444444444444444,
             "#bd3786"
            ],
            [
             0.5555555555555556,
             "#d8576b"
            ],
            [
             0.6666666666666666,
             "#ed7953"
            ],
            [
             0.7777777777777778,
             "#fb9f3a"
            ],
            [
             0.8888888888888888,
             "#fdca26"
            ],
            [
             1,
             "#f0f921"
            ]
           ]
          },
          "colorway": [
           "#636efa",
           "#EF553B",
           "#00cc96",
           "#ab63fa",
           "#FFA15A",
           "#19d3f3",
           "#FF6692",
           "#B6E880",
           "#FF97FF",
           "#FECB52"
          ],
          "font": {
           "color": "#2a3f5f"
          },
          "geo": {
           "bgcolor": "white",
           "lakecolor": "white",
           "landcolor": "#E5ECF6",
           "showlakes": true,
           "showland": true,
           "subunitcolor": "white"
          },
          "hoverlabel": {
           "align": "left"
          },
          "hovermode": "closest",
          "mapbox": {
           "style": "light"
          },
          "paper_bgcolor": "white",
          "plot_bgcolor": "#E5ECF6",
          "polar": {
           "angularaxis": {
            "gridcolor": "white",
            "linecolor": "white",
            "ticks": ""
           },
           "bgcolor": "#E5ECF6",
           "radialaxis": {
            "gridcolor": "white",
            "linecolor": "white",
            "ticks": ""
           }
          },
          "scene": {
           "xaxis": {
            "backgroundcolor": "#E5ECF6",
            "gridcolor": "white",
            "gridwidth": 2,
            "linecolor": "white",
            "showbackground": true,
            "ticks": "",
            "zerolinecolor": "white"
           },
           "yaxis": {
            "backgroundcolor": "#E5ECF6",
            "gridcolor": "white",
            "gridwidth": 2,
            "linecolor": "white",
            "showbackground": true,
            "ticks": "",
            "zerolinecolor": "white"
           },
           "zaxis": {
            "backgroundcolor": "#E5ECF6",
            "gridcolor": "white",
            "gridwidth": 2,
            "linecolor": "white",
            "showbackground": true,
            "ticks": "",
            "zerolinecolor": "white"
           }
          },
          "shapedefaults": {
           "line": {
            "color": "#2a3f5f"
           }
          },
          "ternary": {
           "aaxis": {
            "gridcolor": "white",
            "linecolor": "white",
            "ticks": ""
           },
           "baxis": {
            "gridcolor": "white",
            "linecolor": "white",
            "ticks": ""
           },
           "bgcolor": "#E5ECF6",
           "caxis": {
            "gridcolor": "white",
            "linecolor": "white",
            "ticks": ""
           }
          },
          "title": {
           "x": 0.05
          },
          "xaxis": {
           "automargin": true,
           "gridcolor": "white",
           "linecolor": "white",
           "ticks": "",
           "title": {
            "standoff": 15
           },
           "zerolinecolor": "white",
           "zerolinewidth": 2
          },
          "yaxis": {
           "automargin": true,
           "gridcolor": "white",
           "linecolor": "white",
           "ticks": "",
           "title": {
            "standoff": 15
           },
           "zerolinecolor": "white",
           "zerolinewidth": 2
          }
         }
        },
        "title": {
         "text": "Mars a gidecek isimler"
        }
       }
      },
      "text/html": [
       "<div>                            <div id=\"637a6a7d-2d57-40e3-85e1-5d769c4cf692\" class=\"plotly-graph-div\" style=\"height:525px; width:100%;\"></div>            <script type=\"text/javascript\">                require([\"plotly\"], function(Plotly) {                    window.PLOTLYENV=window.PLOTLYENV || {};                                    if (document.getElementById(\"637a6a7d-2d57-40e3-85e1-5d769c4cf692\")) {                    Plotly.newPlot(                        \"637a6a7d-2d57-40e3-85e1-5d769c4cf692\",                        [{\"colorbar\":{\"title\":{\"text\":\"Mars a gidecek isimler\"}},\"colorscale\":[[0.0,\"#440154\"],[0.1111111111111111,\"#482878\"],[0.2222222222222222,\"#3e4989\"],[0.3333333333333333,\"#31688e\"],[0.4444444444444444,\"#26828e\"],[0.5555555555555556,\"#1f9e89\"],[0.6666666666666666,\"#35b779\"],[0.7777777777777778,\"#6ece58\"],[0.8888888888888888,\"#b5de2b\"],[1.0,\"#fde725\"]],\"locationmode\":\"country names\",\"locations\":[\"CHINA\",\"UNITED STATES\",\"PHILIPPINES\",\"UNITED KINGDOM\",\"BRAZIL\",\"RUSSIA\",\"ITALY\",\"MEXICO\",\"INDIA\",\"FRANCE\",\"INDONESIA\",\"CANADA\",\"SPAIN\",\"UKRAINE\",\"GERMANY\",\"MALAYSIA\",\"SOUTH KOREA\",\"AUSTRALIA\",\"KAZAKHSTAN\",\"PERU\",\"POLAND\",\"COLOMBIA\",\"TURKEY\",\"ARGENTINA\",\"CHILE\",\"CZECHIA\",\"VIETNAM\",\"ECUADOR\",\"IRAN\",\"IRELAND\",\"TAIWAN\",\"PORTUGAL\",\"SWEDEN\",\"BELARUS\",\"ROMANIA\",\"HONG KONG SAR CHINA\",\"THAILAND\",\"BELGIUM\",\"GREECE\",\"BANGLADESH\",\"NETHERLANDS\",\"ARMENIA\",\"AFGHANISTAN\",\"SOUTH AFRICA\",\"EGYPT\",\"HUNGARY\",\"ALBANIA\",\"ALGERIA\",\"SAUDI ARABIA\",\"AUSTRIA\",\"COSTA RICA\",\"UNITED ARAB EMIRATES\",\"UZBEKISTAN\",\"NEW ZEALAND\",\"SWITZERLAND\",\"JAPAN\",\"ISRAEL\",\"SLOVAKIA\",\"BOLIVIA\",\"AZERBAIJAN\",\"SINGAPORE\",\"SERBIA\",\"GUATEMALA\",\"CROATIA\",\"VENEZUELA\",\"AMERICAN SAMOA\",\"NORWAY\",\"MOROCCO\",\"DENMARK\",\"IRAQ\",\"KYRGYZSTAN\",\"ANDORRA\",\"BULGARIA\",\"PAKISTAN\",\"MOLDOVA\",\"FINLAND\",\"EL SALVADOR\",\"LITHUANIA\",\"GEORGIA\",\"PUERTO RICO\",\"BOSNIA & HERZEGOVINA\",\"LEBANON\",\"HONDURAS\",\"LATVIA\",\"PANAMA\",\"DOMINICAN REPUBLIC\",\"JORDAN\",\"NEPAL\",\"SRI LANKA\",\"ANGOLA\",\"URUGUAY\",\"TUNISIA\",\"PARAGUAY\",\"ESTONIA\",\"TRINIDAD & TOBAGO\",\"ANTARCTICA\",\"ANGUILLA\",\"SLOVENIA\",\"MYANMAR (BURMA)\",\"NICARAGUA\",\"KUWAIT\",\"NORTH MACEDONIA\",\"CYPRUS\",\"BAHRAIN\",\"NORTH KOREA\",\"ARUBA\",\"BAHAMAS\",\"KOSOVO\",\"CANARY ISLANDS\",\"SYRIA\",\"QATAR\",\"ASCENSION ISLAND\",\"MACAO SAR CHINA\",\"ANTIGUA & BARBUDA\",\"MALDIVES\",\"MALTA\",\"NIGERIA\",\"CAMBODIA\",\"OMAN\",\"PALESTINIAN TERRITORIES\",\"BRUNEI\",\"GUYANA\",\"MONTENEGRO\",\"KENYA\",\"MAURITIUS\",\"LUXEMBOURG\",\"ZIMBABWE\",\"CUBA\",\"CHRISTMAS ISLAND\",\"R\\u00c9UNION\",\"ICELAND\",\"BELIZE\",\"MONGOLIA\",\"YEMEN\",\"LIBYA\",\"JAMAICA\",\"SUDAN\",\"BRITISH VIRGIN ISLANDS\",\"GHANA\",\"TAJIKISTAN\",\"BARBADOS\",\"BHUTAN\",\"ETHIOPIA\",\"TURKMENISTAN\",\"BERMUDA\",\"GUAM\",\"FIJI\",\"FRENCH POLYNESIA\",\"BRITISH INDIAN OCEAN TERRITORY\",\"BOTSWANA\",\"JERSEY\",\"MADAGASCAR\",\"CHAD\",\"ISLE OF MAN\",\"TANZANIA\",\"BENIN\",\"ZAMBIA\",\"SURINAME\",\"CARIBBEAN NETHERLANDS\",\"NIGER\",\"CAMEROON\",\"CAPE VERDE\",\"CEUTA & MELILLA\",\"UGANDA\",\"GUADELOUPE\",\"CAYMAN ISLANDS\",\"C\\u00d4TE D\\u2019IVOIRE\",\"MONACO\",\"FRENCH GUIANA\",\"BURUNDI\",\"GIBRALTAR\",\"DOMINICA\",\"CENTRAL AFRICAN REPUBLIC\",\"MARTINIQUE\",\"GUERNSEY\",\"FRENCH SOUTHERN TERRITORIES\",\"NEW CALEDONIA\",\"BURKINA FASO\",\"CURA\\u00c7AO\",\"SENEGAL\",\"MOZAMBIQUE\",\"LAOS\",\"U.S. VIRGIN ISLANDS\",\"NAMIBIA\",\"NORTHERN MARIANA ISLANDS\",\"COCOS (KEELING) ISLANDS\",\"GREENLAND\",\"VATICAN CITY\",\"CONGO - KINSHASA\",\"SOMALIA\",\"HAITI\",\"RWANDA\",\"COMOROS\",\"COOK ISLANDS\",\"CONGO - BRAZZAVILLE\",\"MALI\",\"MARSHALL ISLANDS\",\"SOUTH SUDAN\",\"MALAWI\",\"SAN MARINO\",\"EQUATORIAL GUINEA\",\"GABON\",\"PITCAIRN ISLANDS\",\"GRENADA\",\"ERITREA\",\"DJIBOUTI\",\"FAROE ISLANDS\",\"ESWATINI\",\"MAURITANIA\",\"SAMOA\",\"DIEGO GARCIA\",\"LIECHTENSTEIN\",\"U.S. OUTLYING ISLANDS\",\"MAYOTTE\",\"TURKS & CAICOS ISLANDS\",\"WALLIS & FUTUNA\",\"PAPUA NEW GUINEA\",\"TOGO\",\"VANUATU\",\"SINT MAARTEN\",\"MICRONESIA\",\"GUINEA\",\"ST. MARTIN\",\"GAMBIA\",\"PALAU\",\"LIBERIA\",\"ST. LUCIA\",\"FALKLAND ISLANDS\",\"WESTERN SAHARA\",\"SEYCHELLES\",\"SOUTH GEORGIA & SOUTH SANDWICH ISLANDS\",\"MONTSERRAT\",\"SIERRA LEONE\",\"TIMOR-LESTE\",\"\\u00c5LAND ISLANDS\",\"ST. VINCENT & GRENADINES\",\"TONGA\",\"ST. KITTS & NEVIS\",\"LESOTHO\",\"S\\u00c3O TOM\\u00c9 & PR\\u00cdNCIPE\",\"ST. PIERRE & MIQUELON\",\"GUINEA-BISSAU\",\"TUVALU\",\"NORFOLK ISLAND\",\"KIRIBATI\",\"SOLOMON ISLANDS\",\"ST. HELENA\",\"NAURU\",\"SVALBARD & JAN MAYEN\",\"NIUE\",\"TOKELAU\",\"ST. BARTH\\u00c9LEMY\",\"TRISTAN DA CUNHA\",\"PSEUDO-BIDI\"],\"reversescale\":true,\"text\":[\"CHINA\",\"UNITED STATES\",\"PHILIPPINES\",\"UNITED KINGDOM\",\"BRAZIL\",\"RUSSIA\",\"ITALY\",\"MEXICO\",\"INDIA\",\"FRANCE\",\"INDONESIA\",\"CANADA\",\"SPAIN\",\"UKRAINE\",\"GERMANY\",\"MALAYSIA\",\"SOUTH KOREA\",\"AUSTRALIA\",\"KAZAKHSTAN\",\"PERU\",\"POLAND\",\"COLOMBIA\",\"TURKEY\",\"ARGENTINA\",\"CHILE\",\"CZECHIA\",\"VIETNAM\",\"ECUADOR\",\"IRAN\",\"IRELAND\",\"TAIWAN\",\"PORTUGAL\",\"SWEDEN\",\"BELARUS\",\"ROMANIA\",\"HONG KONG SAR CHINA\",\"THAILAND\",\"BELGIUM\",\"GREECE\",\"BANGLADESH\",\"NETHERLANDS\",\"ARMENIA\",\"AFGHANISTAN\",\"SOUTH AFRICA\",\"EGYPT\",\"HUNGARY\",\"ALBANIA\",\"ALGERIA\",\"SAUDI ARABIA\",\"AUSTRIA\",\"COSTA RICA\",\"UNITED ARAB EMIRATES\",\"UZBEKISTAN\",\"NEW ZEALAND\",\"SWITZERLAND\",\"JAPAN\",\"ISRAEL\",\"SLOVAKIA\",\"BOLIVIA\",\"AZERBAIJAN\",\"SINGAPORE\",\"SERBIA\",\"GUATEMALA\",\"CROATIA\",\"VENEZUELA\",\"AMERICAN SAMOA\",\"NORWAY\",\"MOROCCO\",\"DENMARK\",\"IRAQ\",\"KYRGYZSTAN\",\"ANDORRA\",\"BULGARIA\",\"PAKISTAN\",\"MOLDOVA\",\"FINLAND\",\"EL SALVADOR\",\"LITHUANIA\",\"GEORGIA\",\"PUERTO RICO\",\"BOSNIA & HERZEGOVINA\",\"LEBANON\",\"HONDURAS\",\"LATVIA\",\"PANAMA\",\"DOMINICAN REPUBLIC\",\"JORDAN\",\"NEPAL\",\"SRI LANKA\",\"ANGOLA\",\"URUGUAY\",\"TUNISIA\",\"PARAGUAY\",\"ESTONIA\",\"TRINIDAD & TOBAGO\",\"ANTARCTICA\",\"ANGUILLA\",\"SLOVENIA\",\"MYANMAR (BURMA)\",\"NICARAGUA\",\"KUWAIT\",\"NORTH MACEDONIA\",\"CYPRUS\",\"BAHRAIN\",\"NORTH KOREA\",\"ARUBA\",\"BAHAMAS\",\"KOSOVO\",\"CANARY ISLANDS\",\"SYRIA\",\"QATAR\",\"ASCENSION ISLAND\",\"MACAO SAR CHINA\",\"ANTIGUA & BARBUDA\",\"MALDIVES\",\"MALTA\",\"NIGERIA\",\"CAMBODIA\",\"OMAN\",\"PALESTINIAN TERRITORIES\",\"BRUNEI\",\"GUYANA\",\"MONTENEGRO\",\"KENYA\",\"MAURITIUS\",\"LUXEMBOURG\",\"ZIMBABWE\",\"CUBA\",\"CHRISTMAS ISLAND\",\"R\\u00c9UNION\",\"ICELAND\",\"BELIZE\",\"MONGOLIA\",\"YEMEN\",\"LIBYA\",\"JAMAICA\",\"SUDAN\",\"BRITISH VIRGIN ISLANDS\",\"GHANA\",\"TAJIKISTAN\",\"BARBADOS\",\"BHUTAN\",\"ETHIOPIA\",\"TURKMENISTAN\",\"BERMUDA\",\"GUAM\",\"FIJI\",\"FRENCH POLYNESIA\",\"BRITISH INDIAN OCEAN TERRITORY\",\"BOTSWANA\",\"JERSEY\",\"MADAGASCAR\",\"CHAD\",\"ISLE OF MAN\",\"TANZANIA\",\"BENIN\",\"ZAMBIA\",\"SURINAME\",\"CARIBBEAN NETHERLANDS\",\"NIGER\",\"CAMEROON\",\"CAPE VERDE\",\"CEUTA & MELILLA\",\"UGANDA\",\"GUADELOUPE\",\"CAYMAN ISLANDS\",\"C\\u00d4TE D\\u2019IVOIRE\",\"MONACO\",\"FRENCH GUIANA\",\"BURUNDI\",\"GIBRALTAR\",\"DOMINICA\",\"CENTRAL AFRICAN REPUBLIC\",\"MARTINIQUE\",\"GUERNSEY\",\"FRENCH SOUTHERN TERRITORIES\",\"NEW CALEDONIA\",\"BURKINA FASO\",\"CURA\\u00c7AO\",\"SENEGAL\",\"MOZAMBIQUE\",\"LAOS\",\"U.S. VIRGIN ISLANDS\",\"NAMIBIA\",\"NORTHERN MARIANA ISLANDS\",\"COCOS (KEELING) ISLANDS\",\"GREENLAND\",\"VATICAN CITY\",\"CONGO - KINSHASA\",\"SOMALIA\",\"HAITI\",\"RWANDA\",\"COMOROS\",\"COOK ISLANDS\",\"CONGO - BRAZZAVILLE\",\"MALI\",\"MARSHALL ISLANDS\",\"SOUTH SUDAN\",\"MALAWI\",\"SAN MARINO\",\"EQUATORIAL GUINEA\",\"GABON\",\"PITCAIRN ISLANDS\",\"GRENADA\",\"ERITREA\",\"DJIBOUTI\",\"FAROE ISLANDS\",\"ESWATINI\",\"MAURITANIA\",\"SAMOA\",\"DIEGO GARCIA\",\"LIECHTENSTEIN\",\"U.S. OUTLYING ISLANDS\",\"MAYOTTE\",\"TURKS & CAICOS ISLANDS\",\"WALLIS & FUTUNA\",\"PAPUA NEW GUINEA\",\"TOGO\",\"VANUATU\",\"SINT MAARTEN\",\"MICRONESIA\",\"GUINEA\",\"ST. MARTIN\",\"GAMBIA\",\"PALAU\",\"LIBERIA\",\"ST. LUCIA\",\"FALKLAND ISLANDS\",\"WESTERN SAHARA\",\"SEYCHELLES\",\"SOUTH GEORGIA & SOUTH SANDWICH ISLANDS\",\"MONTSERRAT\",\"SIERRA LEONE\",\"TIMOR-LESTE\",\"\\u00c5LAND ISLANDS\",\"ST. VINCENT & GRENADINES\",\"TONGA\",\"ST. KITTS & NEVIS\",\"LESOTHO\",\"S\\u00c3O TOM\\u00c9 & PR\\u00cdNCIPE\",\"ST. PIERRE & MIQUELON\",\"GUINEA-BISSAU\",\"TUVALU\",\"NORFOLK ISLAND\",\"KIRIBATI\",\"SOLOMON ISLANDS\",\"ST. HELENA\",\"NAURU\",\"SVALBARD & JAN MAYEN\",\"NIUE\",\"TOKELAU\",\"ST. BARTH\\u00c9LEMY\",\"TRISTAN DA CUNHA\",\"PSEUDO-BIDI\"],\"z\":[\"4088976\",\"3104352\",\"2273037\",\"1212472\",\"1022743\",\"943039\",\"789282\",\"696440\",\"492043\",\"480756\",\"396407\",\"303724\",\"303198\",\"302646\",\"282129\",\"270391\",\"266348\",\"246176\",\"214411\",\"198108\",\"189486\",\"180935\",\"177322\",\"166000\",\"152837\",\"107351\",\"103001\",\"102477\",\"90140\",\"89472\",\"86135\",\"82064\",\"81462\",\"76427\",\"75568\",\"71987\",\"70341\",\"69042\",\"58363\",\"57374\",\"56966\",\"56595\",\"55024\",\"54971\",\"53640\",\"50700\",\"46934\",\"45551\",\"45538\",\"45127\",\"44610\",\"41687\",\"41058\",\"39412\",\"39335\",\"38473\",\"36449\",\"36170\",\"34411\",\"34321\",\"33739\",\"33441\",\"32384\",\"31230\",\"30399\",\"29682\",\"28644\",\"28302\",\"27729\",\"25779\",\"25404\",\"24792\",\"24490\",\"22196\",\"21799\",\"21684\",\"20475\",\"20251\",\"19866\",\"19847\",\"19575\",\"19533\",\"18852\",\"17567\",\"17225\",\"16322\",\"15932\",\"15424\",\"15050\",\"14729\",\"13975\",\"13922\",\"13443\",\"12142\",\"11700\",\"9820\",\"9602\",\"9402\",\"9079\",\"8697\",\"8438\",\"8020\",\"8000\",\"7908\",\"7416\",\"7344\",\"7333\",\"7308\",\"7040\",\"6752\",\"6454\",\"6378\",\"6302\",\"5916\",\"5707\",\"5269\",\"5086\",\"5054\",\"4975\",\"4616\",\"4559\",\"4416\",\"4299\",\"4245\",\"3335\",\"3282\",\"3108\",\"3050\",\"3020\",\"2927\",\"2919\",\"2909\",\"2826\",\"2754\",\"2684\",\"2478\",\"2470\",\"2400\",\"2366\",\"1962\",\"1937\",\"1934\",\"1929\",\"1865\",\"1644\",\"1629\",\"1499\",\"1446\",\"1431\",\"1430\",\"1345\",\"1327\",\"1300\",\"1262\",\"1165\",\"1165\",\"1136\",\"1108\",\"1091\",\"1088\",\"1067\",\"1059\",\"1047\",\"1046\",\"1046\",\"1024\",\"972\",\"960\",\"955\",\"900\",\"858\",\"840\",\"832\",\"823\",\"820\",\"818\",\"796\",\"776\",\"709\",\"707\",\"706\",\"705\",\"703\",\"686\",\"662\",\"645\",\"584\",\"583\",\"569\",\"563\",\"528\",\"476\",\"470\",\"466\",\"448\",\"444\",\"437\",\"435\",\"426\",\"424\",\"423\",\"418\",\"413\",\"409\",\"388\",\"379\",\"368\",\"351\",\"351\",\"350\",\"347\",\"343\",\"330\",\"328\",\"327\",\"316\",\"313\",\"304\",\"296\",\"289\",\"285\",\"280\",\"271\",\"269\",\"264\",\"263\",\"252\",\"252\",\"242\",\"206\",\"186\",\"184\",\"183\",\"179\",\"163\",\"162\",\"153\",\"151\",\"148\",\"143\",\"133\",\"133\",\"130\",\"130\",\"127\",\"122\",\"116\",\"109\",\"108\",\"107\",\"105\",\"102\",\"80\",\"1\"],\"type\":\"choropleth\"}],                        {\"geo\":{\"projection\":{\"type\":\"mercator\"},\"showframe\":false},\"title\":{\"text\":\"Mars a gidecek isimler\"},\"template\":{\"data\":{\"bar\":[{\"error_x\":{\"color\":\"#2a3f5f\"},\"error_y\":{\"color\":\"#2a3f5f\"},\"marker\":{\"line\":{\"color\":\"#E5ECF6\",\"width\":0.5},\"pattern\":{\"fillmode\":\"overlay\",\"size\":10,\"solidity\":0.2}},\"type\":\"bar\"}],\"barpolar\":[{\"marker\":{\"line\":{\"color\":\"#E5ECF6\",\"width\":0.5},\"pattern\":{\"fillmode\":\"overlay\",\"size\":10,\"solidity\":0.2}},\"type\":\"barpolar\"}],\"carpet\":[{\"aaxis\":{\"endlinecolor\":\"#2a3f5f\",\"gridcolor\":\"white\",\"linecolor\":\"white\",\"minorgridcolor\":\"white\",\"startlinecolor\":\"#2a3f5f\"},\"baxis\":{\"endlinecolor\":\"#2a3f5f\",\"gridcolor\":\"white\",\"linecolor\":\"white\",\"minorgridcolor\":\"white\",\"startlinecolor\":\"#2a3f5f\"},\"type\":\"carpet\"}],\"choropleth\":[{\"colorbar\":{\"outlinewidth\":0,\"ticks\":\"\"},\"type\":\"choropleth\"}],\"contour\":[{\"colorbar\":{\"outlinewidth\":0,\"ticks\":\"\"},\"colorscale\":[[0.0,\"#0d0887\"],[0.1111111111111111,\"#46039f\"],[0.2222222222222222,\"#7201a8\"],[0.3333333333333333,\"#9c179e\"],[0.4444444444444444,\"#bd3786\"],[0.5555555555555556,\"#d8576b\"],[0.6666666666666666,\"#ed7953\"],[0.7777777777777778,\"#fb9f3a\"],[0.8888888888888888,\"#fdca26\"],[1.0,\"#f0f921\"]],\"type\":\"contour\"}],\"contourcarpet\":[{\"colorbar\":{\"outlinewidth\":0,\"ticks\":\"\"},\"type\":\"contourcarpet\"}],\"heatmap\":[{\"colorbar\":{\"outlinewidth\":0,\"ticks\":\"\"},\"colorscale\":[[0.0,\"#0d0887\"],[0.1111111111111111,\"#46039f\"],[0.2222222222222222,\"#7201a8\"],[0.3333333333333333,\"#9c179e\"],[0.4444444444444444,\"#bd3786\"],[0.5555555555555556,\"#d8576b\"],[0.6666666666666666,\"#ed7953\"],[0.7777777777777778,\"#fb9f3a\"],[0.8888888888888888,\"#fdca26\"],[1.0,\"#f0f921\"]],\"type\":\"heatmap\"}],\"heatmapgl\":[{\"colorbar\":{\"outlinewidth\":0,\"ticks\":\"\"},\"colorscale\":[[0.0,\"#0d0887\"],[0.1111111111111111,\"#46039f\"],[0.2222222222222222,\"#7201a8\"],[0.3333333333333333,\"#9c179e\"],[0.4444444444444444,\"#bd3786\"],[0.5555555555555556,\"#d8576b\"],[0.6666666666666666,\"#ed7953\"],[0.7777777777777778,\"#fb9f3a\"],[0.8888888888888888,\"#fdca26\"],[1.0,\"#f0f921\"]],\"type\":\"heatmapgl\"}],\"histogram\":[{\"marker\":{\"pattern\":{\"fillmode\":\"overlay\",\"size\":10,\"solidity\":0.2}},\"type\":\"histogram\"}],\"histogram2d\":[{\"colorbar\":{\"outlinewidth\":0,\"ticks\":\"\"},\"colorscale\":[[0.0,\"#0d0887\"],[0.1111111111111111,\"#46039f\"],[0.2222222222222222,\"#7201a8\"],[0.3333333333333333,\"#9c179e\"],[0.4444444444444444,\"#bd3786\"],[0.5555555555555556,\"#d8576b\"],[0.6666666666666666,\"#ed7953\"],[0.7777777777777778,\"#fb9f3a\"],[0.8888888888888888,\"#fdca26\"],[1.0,\"#f0f921\"]],\"type\":\"histogram2d\"}],\"histogram2dcontour\":[{\"colorbar\":{\"outlinewidth\":0,\"ticks\":\"\"},\"colorscale\":[[0.0,\"#0d0887\"],[0.1111111111111111,\"#46039f\"],[0.2222222222222222,\"#7201a8\"],[0.3333333333333333,\"#9c179e\"],[0.4444444444444444,\"#bd3786\"],[0.5555555555555556,\"#d8576b\"],[0.6666666666666666,\"#ed7953\"],[0.7777777777777778,\"#fb9f3a\"],[0.8888888888888888,\"#fdca26\"],[1.0,\"#f0f921\"]],\"type\":\"histogram2dcontour\"}],\"mesh3d\":[{\"colorbar\":{\"outlinewidth\":0,\"ticks\":\"\"},\"type\":\"mesh3d\"}],\"parcoords\":[{\"line\":{\"colorbar\":{\"outlinewidth\":0,\"ticks\":\"\"}},\"type\":\"parcoords\"}],\"pie\":[{\"automargin\":true,\"type\":\"pie\"}],\"scatter\":[{\"marker\":{\"colorbar\":{\"outlinewidth\":0,\"ticks\":\"\"}},\"type\":\"scatter\"}],\"scatter3d\":[{\"line\":{\"colorbar\":{\"outlinewidth\":0,\"ticks\":\"\"}},\"marker\":{\"colorbar\":{\"outlinewidth\":0,\"ticks\":\"\"}},\"type\":\"scatter3d\"}],\"scattercarpet\":[{\"marker\":{\"colorbar\":{\"outlinewidth\":0,\"ticks\":\"\"}},\"type\":\"scattercarpet\"}],\"scattergeo\":[{\"marker\":{\"colorbar\":{\"outlinewidth\":0,\"ticks\":\"\"}},\"type\":\"scattergeo\"}],\"scattergl\":[{\"marker\":{\"colorbar\":{\"outlinewidth\":0,\"ticks\":\"\"}},\"type\":\"scattergl\"}],\"scattermapbox\":[{\"marker\":{\"colorbar\":{\"outlinewidth\":0,\"ticks\":\"\"}},\"type\":\"scattermapbox\"}],\"scatterpolar\":[{\"marker\":{\"colorbar\":{\"outlinewidth\":0,\"ticks\":\"\"}},\"type\":\"scatterpolar\"}],\"scatterpolargl\":[{\"marker\":{\"colorbar\":{\"outlinewidth\":0,\"ticks\":\"\"}},\"type\":\"scatterpolargl\"}],\"scatterternary\":[{\"marker\":{\"colorbar\":{\"outlinewidth\":0,\"ticks\":\"\"}},\"type\":\"scatterternary\"}],\"surface\":[{\"colorbar\":{\"outlinewidth\":0,\"ticks\":\"\"},\"colorscale\":[[0.0,\"#0d0887\"],[0.1111111111111111,\"#46039f\"],[0.2222222222222222,\"#7201a8\"],[0.3333333333333333,\"#9c179e\"],[0.4444444444444444,\"#bd3786\"],[0.5555555555555556,\"#d8576b\"],[0.6666666666666666,\"#ed7953\"],[0.7777777777777778,\"#fb9f3a\"],[0.8888888888888888,\"#fdca26\"],[1.0,\"#f0f921\"]],\"type\":\"surface\"}],\"table\":[{\"cells\":{\"fill\":{\"color\":\"#EBF0F8\"},\"line\":{\"color\":\"white\"}},\"header\":{\"fill\":{\"color\":\"#C8D4E3\"},\"line\":{\"color\":\"white\"}},\"type\":\"table\"}]},\"layout\":{\"annotationdefaults\":{\"arrowcolor\":\"#2a3f5f\",\"arrowhead\":0,\"arrowwidth\":1},\"autotypenumbers\":\"strict\",\"coloraxis\":{\"colorbar\":{\"outlinewidth\":0,\"ticks\":\"\"}},\"colorscale\":{\"diverging\":[[0,\"#8e0152\"],[0.1,\"#c51b7d\"],[0.2,\"#de77ae\"],[0.3,\"#f1b6da\"],[0.4,\"#fde0ef\"],[0.5,\"#f7f7f7\"],[0.6,\"#e6f5d0\"],[0.7,\"#b8e186\"],[0.8,\"#7fbc41\"],[0.9,\"#4d9221\"],[1,\"#276419\"]],\"sequential\":[[0.0,\"#0d0887\"],[0.1111111111111111,\"#46039f\"],[0.2222222222222222,\"#7201a8\"],[0.3333333333333333,\"#9c179e\"],[0.4444444444444444,\"#bd3786\"],[0.5555555555555556,\"#d8576b\"],[0.6666666666666666,\"#ed7953\"],[0.7777777777777778,\"#fb9f3a\"],[0.8888888888888888,\"#fdca26\"],[1.0,\"#f0f921\"]],\"sequentialminus\":[[0.0,\"#0d0887\"],[0.1111111111111111,\"#46039f\"],[0.2222222222222222,\"#7201a8\"],[0.3333333333333333,\"#9c179e\"],[0.4444444444444444,\"#bd3786\"],[0.5555555555555556,\"#d8576b\"],[0.6666666666666666,\"#ed7953\"],[0.7777777777777778,\"#fb9f3a\"],[0.8888888888888888,\"#fdca26\"],[1.0,\"#f0f921\"]]},\"colorway\":[\"#636efa\",\"#EF553B\",\"#00cc96\",\"#ab63fa\",\"#FFA15A\",\"#19d3f3\",\"#FF6692\",\"#B6E880\",\"#FF97FF\",\"#FECB52\"],\"font\":{\"color\":\"#2a3f5f\"},\"geo\":{\"bgcolor\":\"white\",\"lakecolor\":\"white\",\"landcolor\":\"#E5ECF6\",\"showlakes\":true,\"showland\":true,\"subunitcolor\":\"white\"},\"hoverlabel\":{\"align\":\"left\"},\"hovermode\":\"closest\",\"mapbox\":{\"style\":\"light\"},\"paper_bgcolor\":\"white\",\"plot_bgcolor\":\"#E5ECF6\",\"polar\":{\"angularaxis\":{\"gridcolor\":\"white\",\"linecolor\":\"white\",\"ticks\":\"\"},\"bgcolor\":\"#E5ECF6\",\"radialaxis\":{\"gridcolor\":\"white\",\"linecolor\":\"white\",\"ticks\":\"\"}},\"scene\":{\"xaxis\":{\"backgroundcolor\":\"#E5ECF6\",\"gridcolor\":\"white\",\"gridwidth\":2,\"linecolor\":\"white\",\"showbackground\":true,\"ticks\":\"\",\"zerolinecolor\":\"white\"},\"yaxis\":{\"backgroundcolor\":\"#E5ECF6\",\"gridcolor\":\"white\",\"gridwidth\":2,\"linecolor\":\"white\",\"showbackground\":true,\"ticks\":\"\",\"zerolinecolor\":\"white\"},\"zaxis\":{\"backgroundcolor\":\"#E5ECF6\",\"gridcolor\":\"white\",\"gridwidth\":2,\"linecolor\":\"white\",\"showbackground\":true,\"ticks\":\"\",\"zerolinecolor\":\"white\"}},\"shapedefaults\":{\"line\":{\"color\":\"#2a3f5f\"}},\"ternary\":{\"aaxis\":{\"gridcolor\":\"white\",\"linecolor\":\"white\",\"ticks\":\"\"},\"baxis\":{\"gridcolor\":\"white\",\"linecolor\":\"white\",\"ticks\":\"\"},\"bgcolor\":\"#E5ECF6\",\"caxis\":{\"gridcolor\":\"white\",\"linecolor\":\"white\",\"ticks\":\"\"}},\"title\":{\"x\":0.05},\"xaxis\":{\"automargin\":true,\"gridcolor\":\"white\",\"linecolor\":\"white\",\"ticks\":\"\",\"title\":{\"standoff\":15},\"zerolinecolor\":\"white\",\"zerolinewidth\":2},\"yaxis\":{\"automargin\":true,\"gridcolor\":\"white\",\"linecolor\":\"white\",\"ticks\":\"\",\"title\":{\"standoff\":15},\"zerolinecolor\":\"white\",\"zerolinewidth\":2}}}},                        {\"responsive\": true}                    ).then(function(){\n",
       "                            \n",
       "var gd = document.getElementById('637a6a7d-2d57-40e3-85e1-5d769c4cf692');\n",
       "var x = new MutationObserver(function (mutations, observer) {{\n",
       "        var display = window.getComputedStyle(gd).display;\n",
       "        if (!display || display === 'none') {{\n",
       "            console.log([gd, 'removed!']);\n",
       "            Plotly.purge(gd);\n",
       "            observer.disconnect();\n",
       "        }}\n",
       "}});\n",
       "\n",
       "// Listen for the removal of the full notebook cells\n",
       "var notebookContainer = gd.closest('#notebook-container');\n",
       "if (notebookContainer) {{\n",
       "    x.observe(notebookContainer, {childList: true});\n",
       "}}\n",
       "\n",
       "// Listen for the clearing of the current output cell\n",
       "var outputEl = gd.closest('.output');\n",
       "if (outputEl) {{\n",
       "    x.observe(outputEl, {childList: true});\n",
       "}}\n",
       "\n",
       "                        })                };                });            </script>        </div>"
      ]
     },
     "metadata": {},
     "output_type": "display_data"
    }
   ],
   "source": [
    "choromap =go.Figure(data=[data],layout=layout) \n",
    "iplot(choromap,validate=False)"
   ]
  },
  {
   "cell_type": "code",
   "execution_count": null,
   "id": "e54d4bd3",
   "metadata": {},
   "outputs": [],
   "source": []
  }
 ],
 "metadata": {
  "kernelspec": {
   "display_name": "Python 3 (ipykernel)",
   "language": "python",
   "name": "python3"
  },
  "language_info": {
   "codemirror_mode": {
    "name": "ipython",
    "version": 3
   },
   "file_extension": ".py",
   "mimetype": "text/x-python",
   "name": "python",
   "nbconvert_exporter": "python",
   "pygments_lexer": "ipython3",
   "version": "3.9.12"
  },
  "varInspector": {
   "cols": {
    "lenName": 16,
    "lenType": 16,
    "lenVar": 40
   },
   "kernels_config": {
    "python": {
     "delete_cmd_postfix": "",
     "delete_cmd_prefix": "del ",
     "library": "var_list.py",
     "varRefreshCmd": "print(var_dic_list())"
    },
    "r": {
     "delete_cmd_postfix": ") ",
     "delete_cmd_prefix": "rm(",
     "library": "var_list.r",
     "varRefreshCmd": "cat(var_dic_list()) "
    }
   },
   "types_to_exclude": [
    "module",
    "function",
    "builtin_function_or_method",
    "instance",
    "_Feature"
   ],
   "window_display": false
  }
 },
 "nbformat": 4,
 "nbformat_minor": 5
}
