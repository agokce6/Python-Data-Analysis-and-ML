{
 "cells": [
  {
   "cell_type": "code",
   "execution_count": null,
   "id": "c3c23e0d",
   "metadata": {},
   "outputs": [],
   "source": [
    "#pip install tensorflow\n",
    "#pip install keras"
   ]
  },
  {
   "cell_type": "code",
   "execution_count": null,
   "id": "6776df93",
   "metadata": {},
   "outputs": [],
   "source": [
    "import pandas as pd \n",
    "from keras.models import Sequential\n",
    "from keras.layers import Dense"
   ]
  },
  {
   "cell_type": "code",
   "execution_count": null,
   "id": "d29d0309",
   "metadata": {},
   "outputs": [],
   "source": [
    "df = pd.read_csv(\"pima-indians-diabetes.csv\")"
   ]
  },
  {
   "cell_type": "code",
   "execution_count": null,
   "id": "ef644985",
   "metadata": {},
   "outputs": [],
   "source": [
    "df"
   ]
  },
  {
   "cell_type": "code",
   "execution_count": null,
   "id": "87130ce8",
   "metadata": {},
   "outputs": [],
   "source": [
    "df = pd.read_csv(\"pima-indians-diabetes.csv\",header=None) # data sütun ismi olmasın diye"
   ]
  },
  {
   "cell_type": "code",
   "execution_count": null,
   "id": "d7446859",
   "metadata": {},
   "outputs": [],
   "source": [
    "df "
   ]
  },
  {
   "cell_type": "markdown",
   "id": "17bd6f4d",
   "metadata": {},
   "source": [
    "#### Fields description follow:\n",
    "\n",
    "preg = Number of times pregnant\n",
    "\n",
    "plas = Plasma glucose concentration a 2 hours in an oral glucose tolerance test\n",
    "\n",
    "pres = Diastolic blood pressure (mm Hg)\n",
    "\n",
    "skin = Triceps skin fold thickness (mm)\n",
    "\n",
    "test = 2-Hour serum insulin (mu U/ml)\n",
    "\n",
    "mass = Body mass index (weight in kg/(height in m)^2)\n",
    "\n",
    "pedi = Diabetes pedigree function\n",
    "\n",
    "age = Age (years)\n",
    "\n",
    "class = Class variable (1:tested positive for diabetes, 0: tested negative for diabetes)"
   ]
  },
  {
   "cell_type": "code",
   "execution_count": null,
   "id": "7d91a8b2",
   "metadata": {},
   "outputs": [],
   "source": [
    "df.columns=[\"preg\",\"plas\",\"pres\",\"skin\",\"test\",\"mass\",\"pedi\",\"age\",\"class\"]"
   ]
  },
  {
   "cell_type": "code",
   "execution_count": null,
   "id": "fa097435",
   "metadata": {},
   "outputs": [],
   "source": [
    "df"
   ]
  },
  {
   "cell_type": "code",
   "execution_count": null,
   "id": "3f4a9691",
   "metadata": {},
   "outputs": [],
   "source": [
    "x=df.iloc[:,0:8] # class dışında hepsini atıyor\n",
    "# x = df.drop(\"class\",axis=1) # aynı işlevi görür"
   ]
  },
  {
   "cell_type": "code",
   "execution_count": null,
   "id": "395253f4",
   "metadata": {},
   "outputs": [],
   "source": [
    "y=df.iloc[:,8]\n",
    "# y = df.class #aynı işlevi görür"
   ]
  },
  {
   "cell_type": "code",
   "execution_count": null,
   "id": "4c6d509d",
   "metadata": {},
   "outputs": [],
   "source": [
    "model = Sequential()\n",
    "model.add(Dense(12, activation=\"relu\")) \n",
    "model.add(Dense(8, activation=\"relu\")) \n",
    "model.add(Dense(1, activation=\"sigmoid\")) # classification olduğundan 1 output var"
   ]
  },
  {
   "cell_type": "code",
   "execution_count": null,
   "id": "fc3ff4aa",
   "metadata": {},
   "outputs": [],
   "source": [
    "# classification olup evet hayır gibi 2 şeyden oluşuyosa binary kullanılır\n",
    "model.compile(loss=\"binary_crossentropy\", optimizer=\"adam\", metrics=[\"accuracy\"]) "
   ]
  },
  {
   "cell_type": "code",
   "execution_count": null,
   "id": "cd4c4247",
   "metadata": {},
   "outputs": [],
   "source": [
    "model.fit(x,y, epochs=150, batch_size=10, verbose=1)\n",
    "# epoch veriler arasında kaç defa gidip geleceği\n",
    "# batch_size 1 seferde kaç satır veri işleneceği\n",
    "# verbose aşağıdaki yazıların gösterilmesi için 1 yoksa 0"
   ]
  },
  {
   "cell_type": "code",
   "execution_count": null,
   "id": "66c6f50a",
   "metadata": {},
   "outputs": [],
   "source": [
    "model.summary()"
   ]
  },
  {
   "cell_type": "code",
   "execution_count": null,
   "id": "ef13c660",
   "metadata": {},
   "outputs": [],
   "source": [
    "scores=model.evaluate(x,y)"
   ]
  },
  {
   "cell_type": "code",
   "execution_count": null,
   "id": "1b60fa85",
   "metadata": {},
   "outputs": [],
   "source": [
    "print(\"%s: %.2f%%\" % (model.metrics_names[1], scores[1]*100))"
   ]
  },
  {
   "cell_type": "code",
   "execution_count": null,
   "id": "848f9430",
   "metadata": {},
   "outputs": [],
   "source": [
    "history = model.fit(x,y, validation_split=0.20, epochs=200, batch_size=10, verbose=2)\n",
    "# valid split: verinin 5 te birini test için arıyoruz"
   ]
  },
  {
   "cell_type": "code",
   "execution_count": null,
   "id": "1eab1808",
   "metadata": {},
   "outputs": [],
   "source": [
    "print(history.history.keys())"
   ]
  },
  {
   "cell_type": "code",
   "execution_count": null,
   "id": "a001d9d5",
   "metadata": {},
   "outputs": [],
   "source": [
    "history.history[\"accuracy\"]"
   ]
  },
  {
   "cell_type": "code",
   "execution_count": null,
   "id": "0f4fa10b",
   "metadata": {},
   "outputs": [],
   "source": [
    "import matplotlib.pyplot as plt\n",
    "%matplotlib inline"
   ]
  },
  {
   "cell_type": "code",
   "execution_count": null,
   "id": "5434a222",
   "metadata": {},
   "outputs": [],
   "source": [
    "fig1 = plt.figure(1)\n",
    "plt.plot(history.history[\"accuracy\"])\n",
    "plt.plot(history.history[\"val_accuracy\"])\n",
    "plt.title(\"Model Accuracy\")\n",
    "plt.ylabel(\"Accuracy\")\n",
    "plt.xlabel(\"Epoch\")\n",
    "plt.legend([\"training\",\"testing\"], loc=\"upper left\")"
   ]
  },
  {
   "cell_type": "code",
   "execution_count": null,
   "id": "b2c4a3e0",
   "metadata": {},
   "outputs": [],
   "source": [
    "fig2 = plt.figure(2)\n",
    "plt.plot(history.history[\"loss\"])\n",
    "plt.plot(history.history[\"val_loss\"])\n",
    "plt.title(\"Model Loss\")\n",
    "plt.ylabel(\"Loss\")\n",
    "plt.xlabel(\"Epoch\")\n",
    "plt.legend([\"training\",\"testing\"], loc=\"upper left\")\n",
    "plt.show()"
   ]
  },
  {
   "cell_type": "code",
   "execution_count": null,
   "id": "9ae85d48",
   "metadata": {},
   "outputs": [],
   "source": [
    "from keras.callbacks import ModelCheckpoint"
   ]
  },
  {
   "cell_type": "code",
   "execution_count": null,
   "id": "a23ca1a2",
   "metadata": {},
   "outputs": [],
   "source": [
    "filepath = \"weights.best.hdf5\" # kaydedilen dosya\n",
    "# besti kaydeder\n",
    "checkpoint = ModelCheckpoint(filepath, monitor=\"val_accuracy\", verbose=1, save_best_only=True, mode=\"max\")\n",
    "callbacks_list = [checkpoint]"
   ]
  },
  {
   "cell_type": "code",
   "execution_count": null,
   "id": "7743fd34",
   "metadata": {},
   "outputs": [],
   "source": [
    "model.fit(x,y,validation_split=0.2, epochs=150, batch_size=10, callbacks=callbacks_list, verbose=0)"
   ]
  },
  {
   "cell_type": "markdown",
   "id": "9abd5df3",
   "metadata": {},
   "source": [
    "# Normalize Data"
   ]
  },
  {
   "cell_type": "code",
   "execution_count": null,
   "id": "92a83a98",
   "metadata": {},
   "outputs": [],
   "source": [
    "import pandas as pd \n",
    "df = pd.read_csv(\"heightweight.csv\")"
   ]
  },
  {
   "cell_type": "code",
   "execution_count": null,
   "id": "c649cfd9",
   "metadata": {},
   "outputs": [],
   "source": [
    "df.head(5)"
   ]
  },
  {
   "cell_type": "code",
   "execution_count": null,
   "id": "d6a1019b",
   "metadata": {},
   "outputs": [],
   "source": [
    "data=df[[\"WeightLB\",\"ageYear\"]]"
   ]
  },
  {
   "cell_type": "code",
   "execution_count": null,
   "id": "5023d91d",
   "metadata": {},
   "outputs": [],
   "source": [
    "data.head()"
   ]
  },
  {
   "cell_type": "code",
   "execution_count": null,
   "id": "24ecd020",
   "metadata": {},
   "outputs": [],
   "source": [
    "from sklearn.preprocessing import normalize, scale\n",
    "data_scaled = scale(data) #scale every column independently"
   ]
  },
  {
   "cell_type": "code",
   "execution_count": null,
   "id": "4aecdba8",
   "metadata": {},
   "outputs": [],
   "source": [
    "data_scaled"
   ]
  },
  {
   "cell_type": "code",
   "execution_count": null,
   "id": "ce37cc95",
   "metadata": {},
   "outputs": [],
   "source": [
    "data_scaled.max()"
   ]
  },
  {
   "cell_type": "code",
   "execution_count": null,
   "id": "83b2d67c",
   "metadata": {},
   "outputs": [],
   "source": [
    "data_scaled.min()"
   ]
  },
  {
   "cell_type": "code",
   "execution_count": null,
   "id": "af01c865",
   "metadata": {},
   "outputs": [],
   "source": [
    "scale([110,20])"
   ]
  },
  {
   "cell_type": "code",
   "execution_count": null,
   "id": "3d6f1332",
   "metadata": {},
   "outputs": [],
   "source": [
    "data_normal = normalize(data)"
   ]
  },
  {
   "cell_type": "code",
   "execution_count": null,
   "id": "6e893246",
   "metadata": {},
   "outputs": [],
   "source": [
    "data_normal"
   ]
  },
  {
   "cell_type": "code",
   "execution_count": null,
   "id": "c2eb99cc",
   "metadata": {},
   "outputs": [],
   "source": [
    "from sklearn.preprocessing import MinMaxScaler\n",
    "# önceki ödevlerde x leri her şeyi bitirdikten sonra algoritmaya vermeden önce\n",
    "# bununla scale edersen daha iyi sonuç elde edersin"
   ]
  },
  {
   "cell_type": "code",
   "execution_count": null,
   "id": "5d6e2b34",
   "metadata": {},
   "outputs": [],
   "source": [
    "scaler = MinMaxScaler()"
   ]
  },
  {
   "cell_type": "code",
   "execution_count": null,
   "id": "ddfc5c13",
   "metadata": {},
   "outputs": [],
   "source": [
    "scaled = scaler.fit_transform(data)"
   ]
  },
  {
   "cell_type": "code",
   "execution_count": null,
   "id": "5741f3dd",
   "metadata": {},
   "outputs": [],
   "source": [
    "scaled"
   ]
  },
  {
   "cell_type": "markdown",
   "id": "2ad35fa8",
   "metadata": {},
   "source": [
    "## King County Home Price Prediction"
   ]
  },
  {
   "cell_type": "code",
   "execution_count": null,
   "id": "b2413f31",
   "metadata": {},
   "outputs": [],
   "source": [
    "import pandas as pd"
   ]
  },
  {
   "cell_type": "code",
   "execution_count": null,
   "id": "f69302b8",
   "metadata": {},
   "outputs": [],
   "source": [
    "df=pd.read_csv(\"kc_house.csv\")"
   ]
  },
  {
   "cell_type": "code",
   "execution_count": null,
   "id": "38ed4dcc",
   "metadata": {},
   "outputs": [],
   "source": [
    "df.head()"
   ]
  },
  {
   "cell_type": "code",
   "execution_count": null,
   "id": "aa2c1f2f",
   "metadata": {},
   "outputs": [],
   "source": [
    "x=df.drop(\"price\", axis=1)"
   ]
  },
  {
   "cell_type": "code",
   "execution_count": null,
   "id": "efb76922",
   "metadata": {},
   "outputs": [],
   "source": [
    "from sklearn.preprocessing import MinMaxScaler\n",
    "scaler=MinMaxScaler()"
   ]
  },
  {
   "cell_type": "code",
   "execution_count": null,
   "id": "7e5b3628",
   "metadata": {},
   "outputs": [],
   "source": [
    "x=scaler.fit_transform(x)"
   ]
  },
  {
   "cell_type": "code",
   "execution_count": null,
   "id": "d7e285ae",
   "metadata": {},
   "outputs": [],
   "source": [
    "y=df[\"price\"]"
   ]
  },
  {
   "cell_type": "code",
   "execution_count": null,
   "id": "652c0e44",
   "metadata": {},
   "outputs": [],
   "source": [
    "from sklearn.model_selection import train_test_split\n",
    "from sklearn.metrics import r2_score, mean_squared_error, mean_absolute_error"
   ]
  },
  {
   "cell_type": "code",
   "execution_count": null,
   "id": "f6f70318",
   "metadata": {},
   "outputs": [],
   "source": [
    "x_train, x_test, y_train, y_test = train_test_split(x,y,test_size=0.2, random_state=13)"
   ]
  },
  {
   "cell_type": "code",
   "execution_count": null,
   "id": "dc6b24f2",
   "metadata": {},
   "outputs": [],
   "source": [
    "# Creating Neural Network Model\n",
    "from tensorflow.keras.models import Sequential\n",
    "from tensorflow.keras.layers import Dense, Activation\n",
    "from tensorflow.keras.optimizers import Adam"
   ]
  },
  {
   "cell_type": "code",
   "execution_count": null,
   "id": "ded30e6e",
   "metadata": {},
   "outputs": [],
   "source": [
    "model = Sequential()\n",
    "model.add(Dense(81,activation=\"relu\"))\n",
    "model.add(Dense(40,activation=\"relu\"))\n",
    "model.add(Dense(27,activation=\"relu\"))\n",
    "model.add(Dense(19,activation=\"relu\"))\n",
    "model.add(Dense(5,activation=\"relu\"))\n",
    "model.add(Dense(3,activation=\"relu\"))\n",
    "model.add(Dense(1))\n",
    "model.compile(optimizer=\"Adam\",loss=\"mae\")"
   ]
  },
  {
   "cell_type": "code",
   "execution_count": null,
   "id": "5c71ddcb",
   "metadata": {
    "scrolled": true
   },
   "outputs": [],
   "source": [
    "model.fit(x=x_train,y=y_train,validation_data=(x_test,y_test),batch_size=128,epochs=250,verbose=1)"
   ]
  },
  {
   "cell_type": "code",
   "execution_count": null,
   "id": "c2c2c84c",
   "metadata": {},
   "outputs": [],
   "source": [
    "model.summary()"
   ]
  },
  {
   "cell_type": "code",
   "execution_count": null,
   "id": "7d3a0966",
   "metadata": {},
   "outputs": [],
   "source": [
    "import matplotlib.pyplot as plt \n",
    "%matplotlib inline \n",
    "import seaborn as sns"
   ]
  },
  {
   "cell_type": "code",
   "execution_count": null,
   "id": "bb495517",
   "metadata": {},
   "outputs": [],
   "source": [
    "loss_df = pd.DataFrame(model.history.history)\n",
    "loss_df.plot(figsize=(12,8))"
   ]
  },
  {
   "cell_type": "code",
   "execution_count": null,
   "id": "504776c7",
   "metadata": {},
   "outputs": [],
   "source": [
    "pred=model.predict(x_test)"
   ]
  },
  {
   "cell_type": "code",
   "execution_count": null,
   "id": "59bf6b25",
   "metadata": {},
   "outputs": [],
   "source": [
    "(mean_squared_error(y_test,pred))**0.5"
   ]
  },
  {
   "cell_type": "code",
   "execution_count": null,
   "id": "7d7baadd",
   "metadata": {},
   "outputs": [],
   "source": [
    "r2_score(y_test,pred)"
   ]
  },
  {
   "cell_type": "markdown",
   "id": "d4542efa",
   "metadata": {},
   "source": [
    "## 60k El Yazması Rakamların Sınıflandırılması"
   ]
  },
  {
   "cell_type": "code",
   "execution_count": null,
   "id": "8ecdd63c",
   "metadata": {},
   "outputs": [],
   "source": [
    "import tensorflow as tf \n",
    "from tensorflow import keras"
   ]
  },
  {
   "cell_type": "code",
   "execution_count": null,
   "id": "a4570b05",
   "metadata": {},
   "outputs": [],
   "source": [
    "# Load MNIST dataset\n",
    "mnist = keras.datasets.mnist\n",
    "(train_images, train_labels), (test_images, test_labels) = mnist.load_data()"
   ]
  },
  {
   "cell_type": "code",
   "execution_count": null,
   "id": "ebb89fe1",
   "metadata": {},
   "outputs": [],
   "source": [
    "train_images.shape"
   ]
  },
  {
   "cell_type": "code",
   "execution_count": null,
   "id": "c7890a46",
   "metadata": {
    "scrolled": true
   },
   "outputs": [],
   "source": [
    "train_images"
   ]
  },
  {
   "cell_type": "code",
   "execution_count": null,
   "id": "c058fd8d",
   "metadata": {},
   "outputs": [],
   "source": [
    "from matplotlib import pyplot as plt \n",
    "plt.imshow(train_images[31189], cmap=\"gray\") # cmap=gray siyah beyaz yapar"
   ]
  },
  {
   "cell_type": "code",
   "execution_count": null,
   "id": "e68e4ecc",
   "metadata": {},
   "outputs": [],
   "source": [
    "# Normalize the input image so that each pixel value is between 0 to 1\n",
    "train_images = train_images/255.0\n",
    "test_images = test_images/255.0"
   ]
  },
  {
   "cell_type": "code",
   "execution_count": null,
   "id": "6fc9ffd3",
   "metadata": {},
   "outputs": [],
   "source": [
    "# Define the model architecture\n",
    "model = keras.Sequential([\n",
    "    keras.layers.InputLayer(input_shape=(28,28)), # her resim 28,28 olduğundan\n",
    "    keras.layers.Reshape(target_shape=(28,28,1)), # siyah beyaza karşılık gelen renk kodunu (1) ekledik\n",
    "    keras.layers.Conv2D(filters=12, kernel_size=(3,3), activation=tf.nn.relu), # conv2d 2 boyutlu resim\n",
    "    # deep learning te bir sürü random filters varmış\n",
    "    keras.layers.MaxPooling2D(pool_size=(2,2)), # her seferinde 2,2 pixel alır\n",
    "    keras.layers.Flatten(), # layerları birleştir gibi bişi galiba\n",
    "    keras.layers.Dense(10)\n",
    "])\n",
    "# CNN Convolutşonal Neural Networks"
   ]
  },
  {
   "cell_type": "code",
   "execution_count": null,
   "id": "11721246",
   "metadata": {},
   "outputs": [],
   "source": [
    "# Train the digit classification model\n",
    "model.compile(optimizer=\"adam\",\n",
    "             loss=tf.keras.losses.SparseCategoricalCrossentropy(from_logits=True),\n",
    "             metrics=[\"accuracy\"])"
   ]
  },
  {
   "cell_type": "code",
   "execution_count": null,
   "id": "d01594fb",
   "metadata": {},
   "outputs": [],
   "source": [
    "model.fit(train_images, train_labels, validation_split=0.1, epochs=10)"
   ]
  },
  {
   "cell_type": "code",
   "execution_count": null,
   "id": "5ea9b5d2",
   "metadata": {},
   "outputs": [],
   "source": [
    "_, accuracy = model.evaluate(test_images, test_labels)\n",
    "print(\"Accuracy = %.2f\" % (accuracy*100))"
   ]
  },
  {
   "cell_type": "code",
   "execution_count": null,
   "id": "489b6099",
   "metadata": {},
   "outputs": [],
   "source": [
    "train_labels[31189]"
   ]
  },
  {
   "cell_type": "markdown",
   "id": "762464c3",
   "metadata": {},
   "source": [
    "## Clothes"
   ]
  },
  {
   "cell_type": "code",
   "execution_count": null,
   "id": "feb84778",
   "metadata": {},
   "outputs": [],
   "source": [
    "import tensorflow as tf \n",
    "from tensorflow import keras\n",
    "import numpy as np \n",
    "import matplotlib.pyplot as plt "
   ]
  },
  {
   "cell_type": "code",
   "execution_count": null,
   "id": "6e8227fb",
   "metadata": {},
   "outputs": [],
   "source": [
    "fashion_mnist = tf.keras.datasets.fashion_mnist\n",
    "(train_images, train_labels), (test_images, test_labels) = fashion_mnist.load_data()"
   ]
  },
  {
   "cell_type": "code",
   "execution_count": null,
   "id": "0377ab4e",
   "metadata": {},
   "outputs": [],
   "source": [
    "train_images.shape"
   ]
  },
  {
   "cell_type": "code",
   "execution_count": null,
   "id": "fff46607",
   "metadata": {},
   "outputs": [],
   "source": [
    "class_names = [\"T-shirt/top\", \"Trouser\", \"Pullover\", \"Dress\", \"Coat\",\n",
    "               \"Sandal\", \"Shirt\", \"Sneaker\", \"Bag\", \"Ankle boot\"]"
   ]
  },
  {
   "cell_type": "code",
   "execution_count": null,
   "id": "a3a39d76",
   "metadata": {},
   "outputs": [],
   "source": [
    "plt.figure()\n",
    "plt.imshow(train_images[0], cmap=\"gray\")\n",
    "plt.colorbar()\n",
    "plt.grid(False)\n",
    "plt.show()"
   ]
  },
  {
   "cell_type": "code",
   "execution_count": null,
   "id": "3b8597af",
   "metadata": {},
   "outputs": [],
   "source": [
    "plt.figure(figsize=(10,10))\n",
    "for i in range(25):\n",
    "    plt.subplot(5,5,i+1)\n",
    "    plt.xticks([])\n",
    "    plt.yticks([])\n",
    "    plt.grid(False)\n",
    "    plt.imshow(train_images[i], cmap=plt.cm.binary)\n",
    "    plt.xlabel(class_names[train_labels[i]])\n",
    "plt.show()"
   ]
  },
  {
   "cell_type": "code",
   "execution_count": null,
   "id": "ab0a21b1",
   "metadata": {},
   "outputs": [],
   "source": [
    "model = tf.keras.Sequential([\n",
    "    tf.keras.layers.Flatten(input_shape=(28,28)),\n",
    "    tf.keras.layers.Dense(128, activation=\"relu\"),\n",
    "    tf.keras.layers.Dense(128, activation=\"relu\"),\n",
    "    tf.keras.layers.Dense(10)\n",
    "])"
   ]
  },
  {
   "cell_type": "code",
   "execution_count": null,
   "id": "92f80283",
   "metadata": {},
   "outputs": [],
   "source": [
    "model.compile(optimizer=\"adam\",\n",
    "             loss=tf.keras.losses.SparseCategoricalCrossentropy(from_logits=True),\n",
    "             metrics=[\"accuracy\"])"
   ]
  },
  {
   "cell_type": "code",
   "execution_count": null,
   "id": "572f6c9a",
   "metadata": {},
   "outputs": [],
   "source": [
    "model.fit(train_images, train_labels, epochs=10, verbose=1)"
   ]
  },
  {
   "cell_type": "code",
   "execution_count": null,
   "id": "ab5d79a7",
   "metadata": {},
   "outputs": [],
   "source": [
    "test_loss, test_acc = model.evaluate(test_images, test_labels, verbose=2)\n",
    "print(\"\\nTest accuracy:\", test_acc)"
   ]
  },
  {
   "cell_type": "code",
   "execution_count": null,
   "id": "1a472fe8",
   "metadata": {},
   "outputs": [],
   "source": [
    "# serialize model to JSON\n",
    "model_json = model.to_json()\n",
    "with open(\"model_mnist.json\",\"w\") as json_file:\n",
    "    json_file.write(model_json)\n",
    "    \n",
    "# serialize weights to HDFS\n",
    "model.save_weights(\"model_mnist.h5\")\n",
    "print(\"Saved model to disk\")"
   ]
  },
  {
   "cell_type": "code",
   "execution_count": null,
   "id": "5a5dc0be",
   "metadata": {},
   "outputs": [],
   "source": [
    "# LSTM vurguladı ancak kayıt yok"
   ]
  }
 ],
 "metadata": {
  "kernelspec": {
   "display_name": "Python 3.10.1 64-bit",
   "language": "python",
   "name": "python3"
  },
  "language_info": {
   "codemirror_mode": {
    "name": "ipython",
    "version": 3
   },
   "file_extension": ".py",
   "mimetype": "text/x-python",
   "name": "python",
   "nbconvert_exporter": "python",
   "pygments_lexer": "ipython3",
   "version": "3.10.1"
  },
  "varInspector": {
   "cols": {
    "lenName": 16,
    "lenType": 16,
    "lenVar": 40
   },
   "kernels_config": {
    "python": {
     "delete_cmd_postfix": "",
     "delete_cmd_prefix": "del ",
     "library": "var_list.py",
     "varRefreshCmd": "print(var_dic_list())"
    },
    "r": {
     "delete_cmd_postfix": ") ",
     "delete_cmd_prefix": "rm(",
     "library": "var_list.r",
     "varRefreshCmd": "cat(var_dic_list()) "
    }
   },
   "types_to_exclude": [
    "module",
    "function",
    "builtin_function_or_method",
    "instance",
    "_Feature"
   ],
   "window_display": false
  },
  "vscode": {
   "interpreter": {
    "hash": "8c3d4d9970fc5c09c50d9318a9c7fbf4d0159e4b28833276f5678ee22bded273"
   }
  }
 },
 "nbformat": 4,
 "nbformat_minor": 5
}
